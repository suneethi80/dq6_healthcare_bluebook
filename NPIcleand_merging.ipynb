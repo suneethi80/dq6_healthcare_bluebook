{
 "cells": [
  {
   "cell_type": "code",
   "execution_count": 198,
   "metadata": {},
   "outputs": [],
   "source": [
    "import pandas as pd\n",
    "pd.set_option('display.max_columns', None)\n",
    "pd.set_option('display.max_rows', None)\n",
    "import seaborn as sns"
   ]
  },
  {
   "cell_type": "code",
   "execution_count": 199,
   "metadata": {},
   "outputs": [],
   "source": [
    "npi_infoclean=pd.read_pickle('data/npi_infoclean.pkl')"
   ]
  },
  {
   "cell_type": "code",
   "execution_count": 200,
   "metadata": {},
   "outputs": [],
   "source": [
    "hop_teaming_filterd=pd.read_pickle('data/hop_teaming_filterd.pkl')"
   ]
  },
  {
   "cell_type": "code",
   "execution_count": 201,
   "metadata": {},
   "outputs": [],
   "source": [
    "taxo_df=pd.read_csv('data/nucc_taxonomy_200.csv')"
   ]
  },
  {
   "cell_type": "code",
   "execution_count": 202,
   "metadata": {},
   "outputs": [],
   "source": [
    "taxo_clean=taxo_df[['Code', 'Grouping', 'Classification', 'Specialization']]"
   ]
  },
  {
   "cell_type": "code",
   "execution_count": 203,
   "metadata": {},
   "outputs": [
    {
     "data": {
      "text/html": [
       "<div>\n",
       "<style scoped>\n",
       "    .dataframe tbody tr th:only-of-type {\n",
       "        vertical-align: middle;\n",
       "    }\n",
       "\n",
       "    .dataframe tbody tr th {\n",
       "        vertical-align: top;\n",
       "    }\n",
       "\n",
       "    .dataframe thead th {\n",
       "        text-align: right;\n",
       "    }\n",
       "</style>\n",
       "<table border=\"1\" class=\"dataframe\">\n",
       "  <thead>\n",
       "    <tr style=\"text-align: right;\">\n",
       "      <th></th>\n",
       "      <th>NPI</th>\n",
       "      <th>Entity_Type_Code</th>\n",
       "      <th>p_org_name</th>\n",
       "      <th>p_last_name</th>\n",
       "      <th>p_first_name</th>\n",
       "      <th>p_other_org_name</th>\n",
       "      <th>p_other_org_name_typecode</th>\n",
       "      <th>p_business_add1</th>\n",
       "      <th>p_businss_add2</th>\n",
       "      <th>p_city</th>\n",
       "      <th>p_state</th>\n",
       "      <th>p_zipcode</th>\n",
       "      <th>p_country</th>\n",
       "      <th>p_phone</th>\n",
       "      <th>taxonomy</th>\n",
       "      <th>ziplength</th>\n",
       "    </tr>\n",
       "  </thead>\n",
       "  <tbody>\n",
       "    <tr>\n",
       "      <td>0</td>\n",
       "      <td>1679576722</td>\n",
       "      <td>1</td>\n",
       "      <td>None</td>\n",
       "      <td>WIEBE</td>\n",
       "      <td>DAVID</td>\n",
       "      <td>None</td>\n",
       "      <td>None</td>\n",
       "      <td>3500 CENTRAL AVE</td>\n",
       "      <td>None</td>\n",
       "      <td>KEARNEY</td>\n",
       "      <td>NE</td>\n",
       "      <td>688472944</td>\n",
       "      <td>US</td>\n",
       "      <td>3088652512</td>\n",
       "      <td>207X00000X</td>\n",
       "      <td>68847</td>\n",
       "    </tr>\n",
       "    <tr>\n",
       "      <td>1</td>\n",
       "      <td>1588667638</td>\n",
       "      <td>1</td>\n",
       "      <td>None</td>\n",
       "      <td>PILCHER</td>\n",
       "      <td>WILLIAM</td>\n",
       "      <td>None</td>\n",
       "      <td>None</td>\n",
       "      <td>1824 KING STREET</td>\n",
       "      <td>SUITE 300</td>\n",
       "      <td>JACKSONVILLE</td>\n",
       "      <td>FL</td>\n",
       "      <td>322044736</td>\n",
       "      <td>US</td>\n",
       "      <td>9043881820</td>\n",
       "      <td>207RC0000X</td>\n",
       "      <td>32204</td>\n",
       "    </tr>\n",
       "    <tr>\n",
       "      <td>2</td>\n",
       "      <td>1497758544</td>\n",
       "      <td>2</td>\n",
       "      <td>CUMBERLAND COUNTY HOSPITAL SYSTEM, INC</td>\n",
       "      <td>None</td>\n",
       "      <td>None</td>\n",
       "      <td>CAPE FEAR VALLEY HOME HEALTH AND HOSPICE</td>\n",
       "      <td>3</td>\n",
       "      <td>3418 VILLAGE DR</td>\n",
       "      <td>None</td>\n",
       "      <td>FAYETTEVILLE</td>\n",
       "      <td>NC</td>\n",
       "      <td>283044552</td>\n",
       "      <td>US</td>\n",
       "      <td>9106096740</td>\n",
       "      <td>251G00000X</td>\n",
       "      <td>28304</td>\n",
       "    </tr>\n",
       "    <tr>\n",
       "      <td>3</td>\n",
       "      <td>1306849450</td>\n",
       "      <td>1</td>\n",
       "      <td>None</td>\n",
       "      <td>SMITSON</td>\n",
       "      <td>HAROLD</td>\n",
       "      <td>None</td>\n",
       "      <td>None</td>\n",
       "      <td>810 LUCAS DR</td>\n",
       "      <td>None</td>\n",
       "      <td>ATHENS</td>\n",
       "      <td>TX</td>\n",
       "      <td>757513446</td>\n",
       "      <td>US</td>\n",
       "      <td>9036756778</td>\n",
       "      <td>2085R0202X</td>\n",
       "      <td>75751</td>\n",
       "    </tr>\n",
       "    <tr>\n",
       "      <td>4</td>\n",
       "      <td>1215930367</td>\n",
       "      <td>1</td>\n",
       "      <td>None</td>\n",
       "      <td>GRESSOT</td>\n",
       "      <td>LAURENT</td>\n",
       "      <td>None</td>\n",
       "      <td>None</td>\n",
       "      <td>17323 RED OAK DR</td>\n",
       "      <td>None</td>\n",
       "      <td>HOUSTON</td>\n",
       "      <td>TX</td>\n",
       "      <td>770901243</td>\n",
       "      <td>US</td>\n",
       "      <td>2814405006</td>\n",
       "      <td>207RH0003X</td>\n",
       "      <td>77090</td>\n",
       "    </tr>\n",
       "  </tbody>\n",
       "</table>\n",
       "</div>"
      ],
      "text/plain": [
       "          NPI Entity_Type_Code                              p_org_name  \\\n",
       "0  1679576722                1                                    None   \n",
       "1  1588667638                1                                    None   \n",
       "2  1497758544                2  CUMBERLAND COUNTY HOSPITAL SYSTEM, INC   \n",
       "3  1306849450                1                                    None   \n",
       "4  1215930367                1                                    None   \n",
       "\n",
       "  p_last_name p_first_name                          p_other_org_name  \\\n",
       "0       WIEBE        DAVID                                      None   \n",
       "1     PILCHER      WILLIAM                                      None   \n",
       "2        None         None  CAPE FEAR VALLEY HOME HEALTH AND HOSPICE   \n",
       "3     SMITSON       HAROLD                                      None   \n",
       "4     GRESSOT      LAURENT                                      None   \n",
       "\n",
       "  p_other_org_name_typecode   p_business_add1 p_businss_add2        p_city  \\\n",
       "0                      None  3500 CENTRAL AVE           None       KEARNEY   \n",
       "1                      None  1824 KING STREET      SUITE 300  JACKSONVILLE   \n",
       "2                         3   3418 VILLAGE DR           None  FAYETTEVILLE   \n",
       "3                      None      810 LUCAS DR           None        ATHENS   \n",
       "4                      None  17323 RED OAK DR           None       HOUSTON   \n",
       "\n",
       "  p_state  p_zipcode p_country     p_phone    taxonomy ziplength  \n",
       "0      NE  688472944        US  3088652512  207X00000X     68847  \n",
       "1      FL  322044736        US  9043881820  207RC0000X     32204  \n",
       "2      NC  283044552        US  9106096740  251G00000X     28304  \n",
       "3      TX  757513446        US  9036756778  2085R0202X     75751  \n",
       "4      TX  770901243        US  2814405006  207RH0003X     77090  "
      ]
     },
     "execution_count": 203,
     "metadata": {},
     "output_type": "execute_result"
    }
   ],
   "source": [
    "npi_infoclean.head()"
   ]
  },
  {
   "cell_type": "code",
   "execution_count": 204,
   "metadata": {},
   "outputs": [
    {
     "name": "stdout",
     "output_type": "stream",
     "text": [
      "<class 'pandas.core.frame.DataFrame'>\n",
      "Int64Index: 6111510 entries, 0 to 6277895\n",
      "Data columns (total 16 columns):\n",
      "NPI                          object\n",
      "Entity_Type_Code             object\n",
      "p_org_name                   object\n",
      "p_last_name                  object\n",
      "p_first_name                 object\n",
      "p_other_org_name             object\n",
      "p_other_org_name_typecode    object\n",
      "p_business_add1              object\n",
      "p_businss_add2               object\n",
      "p_city                       object\n",
      "p_state                      object\n",
      "p_zipcode                    object\n",
      "p_country                    object\n",
      "p_phone                      object\n",
      "taxonomy                     object\n",
      "ziplength                    object\n",
      "dtypes: object(16)\n",
      "memory usage: 792.7+ MB\n"
     ]
    }
   ],
   "source": [
    "npi_infoclean.info()"
   ]
  },
  {
   "cell_type": "code",
   "execution_count": 205,
   "metadata": {},
   "outputs": [],
   "source": [
    "npi_infoclean[['NPI', 'Entity_Type_Code']]=npi_infoclean[['NPI', 'Entity_Type_Code']].apply(pd.to_numeric)"
   ]
  },
  {
   "cell_type": "code",
   "execution_count": 206,
   "metadata": {},
   "outputs": [
    {
     "name": "stdout",
     "output_type": "stream",
     "text": [
      "<class 'pandas.core.frame.DataFrame'>\n",
      "Int64Index: 6111510 entries, 0 to 6277895\n",
      "Data columns (total 16 columns):\n",
      "NPI                          int64\n",
      "Entity_Type_Code             int64\n",
      "p_org_name                   object\n",
      "p_last_name                  object\n",
      "p_first_name                 object\n",
      "p_other_org_name             object\n",
      "p_other_org_name_typecode    object\n",
      "p_business_add1              object\n",
      "p_businss_add2               object\n",
      "p_city                       object\n",
      "p_state                      object\n",
      "p_zipcode                    object\n",
      "p_country                    object\n",
      "p_phone                      object\n",
      "taxonomy                     object\n",
      "ziplength                    object\n",
      "dtypes: int64(2), object(14)\n",
      "memory usage: 792.7+ MB\n"
     ]
    }
   ],
   "source": [
    "npi_infoclean.info()"
   ]
  },
  {
   "cell_type": "code",
   "execution_count": 207,
   "metadata": {},
   "outputs": [
    {
     "data": {
      "text/html": [
       "<div>\n",
       "<style scoped>\n",
       "    .dataframe tbody tr th:only-of-type {\n",
       "        vertical-align: middle;\n",
       "    }\n",
       "\n",
       "    .dataframe tbody tr th {\n",
       "        vertical-align: top;\n",
       "    }\n",
       "\n",
       "    .dataframe thead th {\n",
       "        text-align: right;\n",
       "    }\n",
       "</style>\n",
       "<table border=\"1\" class=\"dataframe\">\n",
       "  <thead>\n",
       "    <tr style=\"text-align: right;\">\n",
       "      <th></th>\n",
       "      <th>from_npi</th>\n",
       "      <th>to_npi</th>\n",
       "      <th>patient_count</th>\n",
       "      <th>transaction_count</th>\n",
       "      <th>average_day_wait</th>\n",
       "      <th>std_day_wait</th>\n",
       "    </tr>\n",
       "  </thead>\n",
       "  <tbody>\n",
       "    <tr>\n",
       "      <td>3</td>\n",
       "      <td>1033142146</td>\n",
       "      <td>1000000004</td>\n",
       "      <td>491</td>\n",
       "      <td>535</td>\n",
       "      <td>10.232</td>\n",
       "      <td>36.558</td>\n",
       "    </tr>\n",
       "    <tr>\n",
       "      <td>6</td>\n",
       "      <td>1013977990</td>\n",
       "      <td>1003000126</td>\n",
       "      <td>134</td>\n",
       "      <td>145</td>\n",
       "      <td>27.352</td>\n",
       "      <td>51.137</td>\n",
       "    </tr>\n",
       "    <tr>\n",
       "      <td>8</td>\n",
       "      <td>1013996669</td>\n",
       "      <td>1003000126</td>\n",
       "      <td>91</td>\n",
       "      <td>92</td>\n",
       "      <td>35.152</td>\n",
       "      <td>68.009</td>\n",
       "    </tr>\n",
       "    <tr>\n",
       "      <td>10</td>\n",
       "      <td>1033102504</td>\n",
       "      <td>1003000126</td>\n",
       "      <td>52</td>\n",
       "      <td>64</td>\n",
       "      <td>15.328</td>\n",
       "      <td>38.300</td>\n",
       "    </tr>\n",
       "    <tr>\n",
       "      <td>15</td>\n",
       "      <td>1003029620</td>\n",
       "      <td>1003000126</td>\n",
       "      <td>111</td>\n",
       "      <td>121</td>\n",
       "      <td>33.058</td>\n",
       "      <td>58.981</td>\n",
       "    </tr>\n",
       "  </tbody>\n",
       "</table>\n",
       "</div>"
      ],
      "text/plain": [
       "      from_npi      to_npi  patient_count  transaction_count  \\\n",
       "3   1033142146  1000000004            491                535   \n",
       "6   1013977990  1003000126            134                145   \n",
       "8   1013996669  1003000126             91                 92   \n",
       "10  1033102504  1003000126             52                 64   \n",
       "15  1003029620  1003000126            111                121   \n",
       "\n",
       "    average_day_wait  std_day_wait  \n",
       "3             10.232        36.558  \n",
       "6             27.352        51.137  \n",
       "8             35.152        68.009  \n",
       "10            15.328        38.300  \n",
       "15            33.058        58.981  "
      ]
     },
     "execution_count": 207,
     "metadata": {},
     "output_type": "execute_result"
    }
   ],
   "source": [
    "hop_teaming_filterd.head()"
   ]
  },
  {
   "cell_type": "code",
   "execution_count": 208,
   "metadata": {},
   "outputs": [
    {
     "name": "stdout",
     "output_type": "stream",
     "text": [
      "<class 'pandas.core.frame.DataFrame'>\n",
      "Int64Index: 31127390 entries, 3 to 741287\n",
      "Data columns (total 6 columns):\n",
      "from_npi             int64\n",
      "to_npi               int64\n",
      "patient_count        int64\n",
      "transaction_count    int64\n",
      "average_day_wait     float64\n",
      "std_day_wait         float64\n",
      "dtypes: float64(2), int64(4)\n",
      "memory usage: 1.6 GB\n"
     ]
    }
   ],
   "source": [
    "hop_teaming_filterd.info()"
   ]
  },
  {
   "cell_type": "markdown",
   "metadata": {},
   "source": [
    "#Merge npi and hop_teaming but only to filter entity_type_code to 1 or 2"
   ]
  },
  {
   "cell_type": "code",
   "execution_count": 209,
   "metadata": {},
   "outputs": [],
   "source": [
    "#Left Merge NPI and hop_teaming-Include only NPI, entity_type_code and taxonomy from NPI file\n",
    "nh_merge=pd.merge(hop_teaming_filterd, npi_infoclean[['NPI', 'Entity_Type_Code']], \\\n",
    "                  how = 'left', left_on='from_npi', right_on='NPI')"
   ]
  },
  {
   "cell_type": "code",
   "execution_count": 210,
   "metadata": {},
   "outputs": [],
   "source": [
    "#select entity type code that is 1.0- Only from_npi with code = 1 is selected\n",
    "nh_merge=nh_merge.query('Entity_Type_Code==\"1.0\"')"
   ]
  },
  {
   "cell_type": "code",
   "execution_count": 211,
   "metadata": {},
   "outputs": [],
   "source": [
    "nh_merge=nh_merge[['from_npi', 'to_npi', 'patient_count', 'average_day_wait']]"
   ]
  },
  {
   "cell_type": "code",
   "execution_count": 212,
   "metadata": {},
   "outputs": [
    {
     "data": {
      "text/plain": [
       "(16062886, 4)"
      ]
     },
     "execution_count": 212,
     "metadata": {},
     "output_type": "execute_result"
    }
   ],
   "source": [
    "nh_merge.shape"
   ]
  },
  {
   "cell_type": "code",
   "execution_count": 213,
   "metadata": {},
   "outputs": [],
   "source": [
    "nh_merge=pd.merge(nh_merge, \\\n",
    "    npi_infoclean[['NPI', 'Entity_Type_Code']],\\\n",
    "                  how='left', left_on='to_npi', right_on='NPI')"
   ]
  },
  {
   "cell_type": "code",
   "execution_count": 214,
   "metadata": {},
   "outputs": [],
   "source": [
    "nh_merge=nh_merge.query('Entity_Type_Code==2.0')"
   ]
  },
  {
   "cell_type": "code",
   "execution_count": 215,
   "metadata": {},
   "outputs": [],
   "source": [
    "nh_merge=nh_merge[['from_npi', 'to_npi', 'patient_count', 'average_day_wait']]"
   ]
  },
  {
   "cell_type": "code",
   "execution_count": 216,
   "metadata": {},
   "outputs": [
    {
     "data": {
      "text/html": [
       "<div>\n",
       "<style scoped>\n",
       "    .dataframe tbody tr th:only-of-type {\n",
       "        vertical-align: middle;\n",
       "    }\n",
       "\n",
       "    .dataframe tbody tr th {\n",
       "        vertical-align: top;\n",
       "    }\n",
       "\n",
       "    .dataframe thead th {\n",
       "        text-align: right;\n",
       "    }\n",
       "</style>\n",
       "<table border=\"1\" class=\"dataframe\">\n",
       "  <thead>\n",
       "    <tr style=\"text-align: right;\">\n",
       "      <th></th>\n",
       "      <th>from_npi</th>\n",
       "      <th>to_npi</th>\n",
       "      <th>patient_count</th>\n",
       "      <th>average_day_wait</th>\n",
       "    </tr>\n",
       "  </thead>\n",
       "  <tbody>\n",
       "    <tr>\n",
       "      <td>4</td>\n",
       "      <td>1033194220</td>\n",
       "      <td>1003000308</td>\n",
       "      <td>62</td>\n",
       "      <td>26.175</td>\n",
       "    </tr>\n",
       "    <tr>\n",
       "      <td>5</td>\n",
       "      <td>1003818055</td>\n",
       "      <td>1003000563</td>\n",
       "      <td>101</td>\n",
       "      <td>0.000</td>\n",
       "    </tr>\n",
       "    <tr>\n",
       "      <td>13</td>\n",
       "      <td>1013967371</td>\n",
       "      <td>1003001538</td>\n",
       "      <td>46</td>\n",
       "      <td>21.033</td>\n",
       "    </tr>\n",
       "    <tr>\n",
       "      <td>14</td>\n",
       "      <td>1023073459</td>\n",
       "      <td>1003001553</td>\n",
       "      <td>25</td>\n",
       "      <td>34.314</td>\n",
       "    </tr>\n",
       "    <tr>\n",
       "      <td>15</td>\n",
       "      <td>1023003142</td>\n",
       "      <td>1003001553</td>\n",
       "      <td>164</td>\n",
       "      <td>33.923</td>\n",
       "    </tr>\n",
       "  </tbody>\n",
       "</table>\n",
       "</div>"
      ],
      "text/plain": [
       "      from_npi      to_npi  patient_count  average_day_wait\n",
       "4   1033194220  1003000308             62            26.175\n",
       "5   1003818055  1003000563            101             0.000\n",
       "13  1013967371  1003001538             46            21.033\n",
       "14  1023073459  1003001553             25            34.314\n",
       "15  1023003142  1003001553            164            33.923"
      ]
     },
     "execution_count": 216,
     "metadata": {},
     "output_type": "execute_result"
    }
   ],
   "source": [
    "nh_merge.head()"
   ]
  },
  {
   "cell_type": "code",
   "execution_count": 217,
   "metadata": {},
   "outputs": [
    {
     "data": {
      "text/plain": [
       "(8731252, 4)"
      ]
     },
     "execution_count": 217,
     "metadata": {},
     "output_type": "execute_result"
    }
   ],
   "source": [
    "nh_merge.shape\n",
    "\n",
    "#nh_merge.to_csv('data/example_df.csv', index = False)"
   ]
  },
  {
   "cell_type": "markdown",
   "metadata": {},
   "source": [
    "Top patient_count- Providers with maximum referrals to hospitals\n",
    "Which are the hospitals in US?"
   ]
  },
  {
   "cell_type": "code",
   "execution_count": 218,
   "metadata": {},
   "outputs": [
    {
     "data": {
      "text/plain": [
       "<matplotlib.axes._subplots.AxesSubplot at 0x1e8b1bfcd0>"
      ]
     },
     "execution_count": 218,
     "metadata": {},
     "output_type": "execute_result"
    },
    {
     "data": {
      "image/png": "[encoded data removed]",
      "text/plain": [
       "<Figure size 1080x576 with 1 Axes>"
      ]
     },
     "metadata": {},
     "output_type": "display_data"
    }
   ],
   "source": [
    "#sns.distplot(nh_merge['patient_count'])"
   ]
  },
  {
   "cell_type": "markdown",
   "metadata": {},
   "source": [
    "# Analyze how facility type referrals differ by specialty\n",
    "Do orthopedists refer to different types of facilities than cardiologists?\n",
    "\n",
    "specialty of drs."
   ]
  },
  {
   "cell_type": "markdown",
   "metadata": {},
   "source": [
    "# TN data"
   ]
  },
  {
   "cell_type": "code",
   "execution_count": 219,
   "metadata": {},
   "outputs": [],
   "source": [
    "# Add taxonomy code and state by merging with NPI_infoclean dataframe (df)\n",
    "nh_merge_state=pd.merge(hop_teaming_filterd, npi_infoclean[['NPI', 'Entity_Type_Code', 'p_city', 'p_state', 'taxonomy']], \\\n",
    "                  how = 'left', left_on='from_npi', right_on='NPI')"
   ]
  },
  {
   "cell_type": "code",
   "execution_count": 220,
   "metadata": {},
   "outputs": [],
   "source": [
    "# filter for entity_type_code 1 and 2 for from_npi and to_npi respectively\n",
    "nh_merge_state=nh_merge_state.query('Entity_Type_Code==1.0')"
   ]
  },
  {
   "cell_type": "code",
   "execution_count": 221,
   "metadata": {},
   "outputs": [],
   "source": [
    "#rename and remove NPI\n",
    "nh_merge_state=nh_merge_state.rename(columns={\"p_city\": 'from_city', \"p_state\": 'from_state', 'taxonomy': 'from_taxo_code'})\n"
   ]
  },
  {
   "cell_type": "code",
   "execution_count": 222,
   "metadata": {},
   "outputs": [],
   "source": [
    "nh_merge_state=nh_merge_state[['from_npi', 'to_npi', 'patient_count', 'average_day_wait', 'from_city', 'from_state', 'from_taxo_code']]"
   ]
  },
  {
   "cell_type": "code",
   "execution_count": 223,
   "metadata": {},
   "outputs": [
    {
     "data": {
      "text/html": [
       "<div>\n",
       "<style scoped>\n",
       "    .dataframe tbody tr th:only-of-type {\n",
       "        vertical-align: middle;\n",
       "    }\n",
       "\n",
       "    .dataframe tbody tr th {\n",
       "        vertical-align: top;\n",
       "    }\n",
       "\n",
       "    .dataframe thead th {\n",
       "        text-align: right;\n",
       "    }\n",
       "</style>\n",
       "<table border=\"1\" class=\"dataframe\">\n",
       "  <thead>\n",
       "    <tr style=\"text-align: right;\">\n",
       "      <th></th>\n",
       "      <th>from_npi</th>\n",
       "      <th>to_npi</th>\n",
       "      <th>patient_count</th>\n",
       "      <th>average_day_wait</th>\n",
       "      <th>from_city</th>\n",
       "      <th>from_state</th>\n",
       "      <th>from_taxo_code</th>\n",
       "    </tr>\n",
       "  </thead>\n",
       "  <tbody>\n",
       "    <tr>\n",
       "      <td>1</td>\n",
       "      <td>1013977990</td>\n",
       "      <td>1003000126</td>\n",
       "      <td>134</td>\n",
       "      <td>27.352</td>\n",
       "      <td>PORTSMOUTH</td>\n",
       "      <td>VA</td>\n",
       "      <td>207P00000X</td>\n",
       "    </tr>\n",
       "    <tr>\n",
       "      <td>2</td>\n",
       "      <td>1013996669</td>\n",
       "      <td>1003000126</td>\n",
       "      <td>91</td>\n",
       "      <td>35.152</td>\n",
       "      <td>SALEM</td>\n",
       "      <td>VA</td>\n",
       "      <td>207RC0000X</td>\n",
       "    </tr>\n",
       "    <tr>\n",
       "      <td>4</td>\n",
       "      <td>1003029620</td>\n",
       "      <td>1003000126</td>\n",
       "      <td>111</td>\n",
       "      <td>33.058</td>\n",
       "      <td>CHARLOTTESVILLE</td>\n",
       "      <td>VA</td>\n",
       "      <td>2085R0202X</td>\n",
       "    </tr>\n",
       "    <tr>\n",
       "      <td>6</td>\n",
       "      <td>1023122595</td>\n",
       "      <td>1003000134</td>\n",
       "      <td>61</td>\n",
       "      <td>37.567</td>\n",
       "      <td>EVANSTON</td>\n",
       "      <td>IL</td>\n",
       "      <td>208600000X</td>\n",
       "    </tr>\n",
       "    <tr>\n",
       "      <td>8</td>\n",
       "      <td>1033194220</td>\n",
       "      <td>1003000308</td>\n",
       "      <td>62</td>\n",
       "      <td>26.175</td>\n",
       "      <td>ATLANTA</td>\n",
       "      <td>GA</td>\n",
       "      <td>2085R0202X</td>\n",
       "    </tr>\n",
       "  </tbody>\n",
       "</table>\n",
       "</div>"
      ],
      "text/plain": [
       "     from_npi      to_npi  patient_count  average_day_wait        from_city  \\\n",
       "1  1013977990  1003000126            134            27.352       PORTSMOUTH   \n",
       "2  1013996669  1003000126             91            35.152            SALEM   \n",
       "4  1003029620  1003000126            111            33.058  CHARLOTTESVILLE   \n",
       "6  1023122595  1003000134             61            37.567         EVANSTON   \n",
       "8  1033194220  1003000308             62            26.175          ATLANTA   \n",
       "\n",
       "  from_state from_taxo_code  \n",
       "1         VA     207P00000X  \n",
       "2         VA     207RC0000X  \n",
       "4         VA     2085R0202X  \n",
       "6         IL     208600000X  \n",
       "8         GA     2085R0202X  "
      ]
     },
     "execution_count": 223,
     "metadata": {},
     "output_type": "execute_result"
    }
   ],
   "source": [
    "nh_merge_state.head()"
   ]
  },
  {
   "cell_type": "code",
   "execution_count": 224,
   "metadata": {},
   "outputs": [],
   "source": [
    "#merge2: merge to_npi to NPI and include the taxonomy and state from NPI file\n",
    "nh_merge_state=pd.merge(nh_merge_state, npi_infoclean[['NPI', 'Entity_Type_Code', 'p_city', 'p_state', 'taxonomy', 'p_org_name']], \\\n",
    "                  how = 'left', left_on='to_npi', right_on='NPI')"
   ]
  },
  {
   "cell_type": "code",
   "execution_count": 225,
   "metadata": {},
   "outputs": [],
   "source": [
    "# query for entity type code to 2\n",
    "nh_merge_state=nh_merge_state.query('Entity_Type_Code==2.0')"
   ]
  },
  {
   "cell_type": "code",
   "execution_count": 226,
   "metadata": {},
   "outputs": [],
   "source": [
    "#rename and remove NPI-2nd time\n",
    "nh_merge_state=nh_merge_state.rename(columns={\"p_city\": 'to_city', \"p_state\": 'to_state', 'taxonomy': 'to_taxo_code'})\n",
    "nh_merge_state=nh_merge_state[['from_npi', 'to_npi', 'patient_count', 'average_day_wait', 'from_city', 'from_state', 'from_taxo_code', \\\n",
    "                         'to_city', 'to_state', 'to_taxo_code', 'p_org_name']]"
   ]
  },
  {
   "cell_type": "code",
   "execution_count": 227,
   "metadata": {},
   "outputs": [],
   "source": [
    "#select from_state and to_state for TN\n",
    "#nh_merge_tn=nh_merge_tn.query('from_state==\"TN\"')"
   ]
  },
  {
   "cell_type": "code",
   "execution_count": 228,
   "metadata": {},
   "outputs": [
    {
     "data": {
      "text/html": [
       "<div>\n",
       "<style scoped>\n",
       "    .dataframe tbody tr th:only-of-type {\n",
       "        vertical-align: middle;\n",
       "    }\n",
       "\n",
       "    .dataframe tbody tr th {\n",
       "        vertical-align: top;\n",
       "    }\n",
       "\n",
       "    .dataframe thead th {\n",
       "        text-align: right;\n",
       "    }\n",
       "</style>\n",
       "<table border=\"1\" class=\"dataframe\">\n",
       "  <thead>\n",
       "    <tr style=\"text-align: right;\">\n",
       "      <th></th>\n",
       "      <th>from_npi</th>\n",
       "      <th>to_npi</th>\n",
       "      <th>patient_count</th>\n",
       "      <th>average_day_wait</th>\n",
       "      <th>from_city</th>\n",
       "      <th>from_state</th>\n",
       "      <th>from_taxo_code</th>\n",
       "      <th>to_city</th>\n",
       "      <th>to_state</th>\n",
       "      <th>to_taxo_code</th>\n",
       "      <th>p_org_name</th>\n",
       "    </tr>\n",
       "  </thead>\n",
       "  <tbody>\n",
       "    <tr>\n",
       "      <td>4</td>\n",
       "      <td>1033194220</td>\n",
       "      <td>1003000308</td>\n",
       "      <td>62</td>\n",
       "      <td>26.175</td>\n",
       "      <td>ATLANTA</td>\n",
       "      <td>GA</td>\n",
       "      <td>2085R0202X</td>\n",
       "      <td>ATLANTA</td>\n",
       "      <td>GA</td>\n",
       "      <td>231H00000X</td>\n",
       "      <td>KEITH M DOCKERY, MD PC</td>\n",
       "    </tr>\n",
       "    <tr>\n",
       "      <td>5</td>\n",
       "      <td>1003818055</td>\n",
       "      <td>1003000563</td>\n",
       "      <td>101</td>\n",
       "      <td>0.000</td>\n",
       "      <td>ROSEVILLE</td>\n",
       "      <td>CA</td>\n",
       "      <td>207RG0100X</td>\n",
       "      <td>ROSEVILLE</td>\n",
       "      <td>CA</td>\n",
       "      <td>261QP2300X</td>\n",
       "      <td>RICHARD B. D. CHUN, M.D. PROFESSIONAL CORPORATION</td>\n",
       "    </tr>\n",
       "    <tr>\n",
       "      <td>13</td>\n",
       "      <td>1013967371</td>\n",
       "      <td>1003001538</td>\n",
       "      <td>46</td>\n",
       "      <td>21.033</td>\n",
       "      <td>MARION</td>\n",
       "      <td>OH</td>\n",
       "      <td>207Y00000X</td>\n",
       "      <td>MARION</td>\n",
       "      <td>OH</td>\n",
       "      <td>207R00000X</td>\n",
       "      <td>MIDWEST INTERNAL MEDICINE ASSOC.</td>\n",
       "    </tr>\n",
       "    <tr>\n",
       "      <td>14</td>\n",
       "      <td>1023073459</td>\n",
       "      <td>1003001553</td>\n",
       "      <td>25</td>\n",
       "      <td>34.314</td>\n",
       "      <td>PROVO</td>\n",
       "      <td>UT</td>\n",
       "      <td>207WX0107X</td>\n",
       "      <td>OGDEN</td>\n",
       "      <td>UT</td>\n",
       "      <td>207R00000X</td>\n",
       "      <td>OGDEN INTERNAL MEDICINE &amp; UROLOGY LLC</td>\n",
       "    </tr>\n",
       "    <tr>\n",
       "      <td>15</td>\n",
       "      <td>1023003142</td>\n",
       "      <td>1003001553</td>\n",
       "      <td>164</td>\n",
       "      <td>33.923</td>\n",
       "      <td>OGDEN</td>\n",
       "      <td>UT</td>\n",
       "      <td>207RC0000X</td>\n",
       "      <td>OGDEN</td>\n",
       "      <td>UT</td>\n",
       "      <td>207R00000X</td>\n",
       "      <td>OGDEN INTERNAL MEDICINE &amp; UROLOGY LLC</td>\n",
       "    </tr>\n",
       "  </tbody>\n",
       "</table>\n",
       "</div>"
      ],
      "text/plain": [
       "      from_npi      to_npi  patient_count  average_day_wait  from_city  \\\n",
       "4   1033194220  1003000308             62            26.175    ATLANTA   \n",
       "5   1003818055  1003000563            101             0.000  ROSEVILLE   \n",
       "13  1013967371  1003001538             46            21.033     MARION   \n",
       "14  1023073459  1003001553             25            34.314      PROVO   \n",
       "15  1023003142  1003001553            164            33.923      OGDEN   \n",
       "\n",
       "   from_state from_taxo_code    to_city to_state to_taxo_code  \\\n",
       "4          GA     2085R0202X    ATLANTA       GA   231H00000X   \n",
       "5          CA     207RG0100X  ROSEVILLE       CA   261QP2300X   \n",
       "13         OH     207Y00000X     MARION       OH   207R00000X   \n",
       "14         UT     207WX0107X      OGDEN       UT   207R00000X   \n",
       "15         UT     207RC0000X      OGDEN       UT   207R00000X   \n",
       "\n",
       "                                           p_org_name  \n",
       "4                              KEITH M DOCKERY, MD PC  \n",
       "5   RICHARD B. D. CHUN, M.D. PROFESSIONAL CORPORATION  \n",
       "13                   MIDWEST INTERNAL MEDICINE ASSOC.  \n",
       "14              OGDEN INTERNAL MEDICINE & UROLOGY LLC  \n",
       "15              OGDEN INTERNAL MEDICINE & UROLOGY LLC  "
      ]
     },
     "execution_count": 228,
     "metadata": {},
     "output_type": "execute_result"
    }
   ],
   "source": [
    "nh_merge_state.head()"
   ]
  },
  {
   "cell_type": "code",
   "execution_count": 229,
   "metadata": {},
   "outputs": [],
   "source": [
    "#merge with taxonomy dataset\n",
    "nh_merge_state=pd.merge(nh_merge_state, taxo_clean, how='left', left_on='from_taxo_code', right_on='Code')"
   ]
  },
  {
   "cell_type": "code",
   "execution_count": 230,
   "metadata": {},
   "outputs": [
    {
     "data": {
      "text/html": [
       "<div>\n",
       "<style scoped>\n",
       "    .dataframe tbody tr th:only-of-type {\n",
       "        vertical-align: middle;\n",
       "    }\n",
       "\n",
       "    .dataframe tbody tr th {\n",
       "        vertical-align: top;\n",
       "    }\n",
       "\n",
       "    .dataframe thead th {\n",
       "        text-align: right;\n",
       "    }\n",
       "</style>\n",
       "<table border=\"1\" class=\"dataframe\">\n",
       "  <thead>\n",
       "    <tr style=\"text-align: right;\">\n",
       "      <th></th>\n",
       "      <th>from_npi</th>\n",
       "      <th>to_npi</th>\n",
       "      <th>patient_count</th>\n",
       "      <th>average_day_wait</th>\n",
       "      <th>from_city</th>\n",
       "      <th>from_state</th>\n",
       "      <th>from_taxo_code</th>\n",
       "      <th>to_city</th>\n",
       "      <th>to_state</th>\n",
       "      <th>to_taxo_code</th>\n",
       "      <th>p_org_name</th>\n",
       "      <th>Code</th>\n",
       "      <th>Grouping</th>\n",
       "      <th>Classification</th>\n",
       "      <th>Specialization</th>\n",
       "    </tr>\n",
       "  </thead>\n",
       "  <tbody>\n",
       "    <tr>\n",
       "      <td>0</td>\n",
       "      <td>1033194220</td>\n",
       "      <td>1003000308</td>\n",
       "      <td>62</td>\n",
       "      <td>26.175</td>\n",
       "      <td>ATLANTA</td>\n",
       "      <td>GA</td>\n",
       "      <td>2085R0202X</td>\n",
       "      <td>ATLANTA</td>\n",
       "      <td>GA</td>\n",
       "      <td>231H00000X</td>\n",
       "      <td>KEITH M DOCKERY, MD PC</td>\n",
       "      <td>2085R0202X</td>\n",
       "      <td>Allopathic &amp; Osteopathic Physicians</td>\n",
       "      <td>Radiology</td>\n",
       "      <td>Diagnostic Radiology</td>\n",
       "    </tr>\n",
       "    <tr>\n",
       "      <td>1</td>\n",
       "      <td>1003818055</td>\n",
       "      <td>1003000563</td>\n",
       "      <td>101</td>\n",
       "      <td>0.000</td>\n",
       "      <td>ROSEVILLE</td>\n",
       "      <td>CA</td>\n",
       "      <td>207RG0100X</td>\n",
       "      <td>ROSEVILLE</td>\n",
       "      <td>CA</td>\n",
       "      <td>261QP2300X</td>\n",
       "      <td>RICHARD B. D. CHUN, M.D. PROFESSIONAL CORPORATION</td>\n",
       "      <td>207RG0100X</td>\n",
       "      <td>Allopathic &amp; Osteopathic Physicians</td>\n",
       "      <td>Internal Medicine</td>\n",
       "      <td>Gastroenterology</td>\n",
       "    </tr>\n",
       "  </tbody>\n",
       "</table>\n",
       "</div>"
      ],
      "text/plain": [
       "     from_npi      to_npi  patient_count  average_day_wait  from_city  \\\n",
       "0  1033194220  1003000308             62            26.175    ATLANTA   \n",
       "1  1003818055  1003000563            101             0.000  ROSEVILLE   \n",
       "\n",
       "  from_state from_taxo_code    to_city to_state to_taxo_code  \\\n",
       "0         GA     2085R0202X    ATLANTA       GA   231H00000X   \n",
       "1         CA     207RG0100X  ROSEVILLE       CA   261QP2300X   \n",
       "\n",
       "                                          p_org_name        Code  \\\n",
       "0                             KEITH M DOCKERY, MD PC  2085R0202X   \n",
       "1  RICHARD B. D. CHUN, M.D. PROFESSIONAL CORPORATION  207RG0100X   \n",
       "\n",
       "                              Grouping     Classification  \\\n",
       "0  Allopathic & Osteopathic Physicians          Radiology   \n",
       "1  Allopathic & Osteopathic Physicians  Internal Medicine   \n",
       "\n",
       "         Specialization  \n",
       "0  Diagnostic Radiology  \n",
       "1      Gastroenterology  "
      ]
     },
     "execution_count": 230,
     "metadata": {},
     "output_type": "execute_result"
    }
   ],
   "source": [
    "nh_merge_state.head(2)"
   ]
  },
  {
   "cell_type": "code",
   "execution_count": 231,
   "metadata": {},
   "outputs": [
    {
     "data": {
      "text/plain": [
       "Allopathic & Osteopathic Physicians    6839697\n",
       "Name: Grouping, dtype: int64"
      ]
     },
     "execution_count": 231,
     "metadata": {},
     "output_type": "execute_result"
    }
   ],
   "source": [
    "nh_merge_taxo_state=nh_merge_state.query('Grouping==\"Allopathic & Osteopathic Physicians\"')\n",
    "nh_merge_taxo_state.Grouping.value_counts()"
   ]
  },
  {
   "cell_type": "code",
   "execution_count": 232,
   "metadata": {},
   "outputs": [],
   "source": [
    "nh_merge_taxo_state.to_pickle('data/nh_merge_taxo_state.pkl')"
   ]
  },
  {
   "cell_type": "markdown",
   "metadata": {},
   "source": [
    "nh_merge_tn_otherstate=nh_merge_tn.query('from_state==\"TN\" and to_state!=\"TN\"')\n",
    "nh_merge_tn_otherstate.query('to_state==\"AK\"')"
   ]
  },
  {
   "cell_type": "markdown",
   "metadata": {},
   "source": [
    "# facility type referrals differ by speciality in TN"
   ]
  },
  {
   "cell_type": "code",
   "execution_count": 233,
   "metadata": {},
   "outputs": [],
   "source": [
    "nh_merge_tn=nh_merge_state.query('from_state==\"TN\"')"
   ]
  },
  {
   "cell_type": "code",
   "execution_count": 234,
   "metadata": {},
   "outputs": [
    {
     "data": {
      "text/html": [
       "<div>\n",
       "<style scoped>\n",
       "    .dataframe tbody tr th:only-of-type {\n",
       "        vertical-align: middle;\n",
       "    }\n",
       "\n",
       "    .dataframe tbody tr th {\n",
       "        vertical-align: top;\n",
       "    }\n",
       "\n",
       "    .dataframe thead th {\n",
       "        text-align: right;\n",
       "    }\n",
       "</style>\n",
       "<table border=\"1\" class=\"dataframe\">\n",
       "  <thead>\n",
       "    <tr style=\"text-align: right;\">\n",
       "      <th></th>\n",
       "      <th>from_npi</th>\n",
       "      <th>to_npi</th>\n",
       "      <th>patient_count</th>\n",
       "      <th>average_day_wait</th>\n",
       "      <th>from_city</th>\n",
       "      <th>from_state</th>\n",
       "      <th>from_taxo_code</th>\n",
       "      <th>to_city</th>\n",
       "      <th>to_state</th>\n",
       "      <th>to_taxo_code</th>\n",
       "      <th>p_org_name</th>\n",
       "      <th>Code</th>\n",
       "      <th>Grouping</th>\n",
       "      <th>Classification</th>\n",
       "      <th>Specialization</th>\n",
       "    </tr>\n",
       "  </thead>\n",
       "  <tbody>\n",
       "    <tr>\n",
       "      <td>2310173</td>\n",
       "      <td>1093753303</td>\n",
       "      <td>1003863580</td>\n",
       "      <td>102736</td>\n",
       "      <td>0.000</td>\n",
       "      <td>BRENTWOOD</td>\n",
       "      <td>TN</td>\n",
       "      <td>207ZP0102X</td>\n",
       "      <td>BRENTWOOD</td>\n",
       "      <td>TN</td>\n",
       "      <td>207ZP0102X</td>\n",
       "      <td>ASSOCIATED PATHOLOGISTS, LLC</td>\n",
       "      <td>207ZP0102X</td>\n",
       "      <td>Allopathic &amp; Osteopathic Physicians</td>\n",
       "      <td>Pathology</td>\n",
       "      <td>Anatomic Pathology &amp; Clinical Pathology</td>\n",
       "    </tr>\n",
       "    <tr>\n",
       "      <td>2402695</td>\n",
       "      <td>1093753303</td>\n",
       "      <td>1235186800</td>\n",
       "      <td>87351</td>\n",
       "      <td>0.455</td>\n",
       "      <td>BRENTWOOD</td>\n",
       "      <td>TN</td>\n",
       "      <td>207ZP0102X</td>\n",
       "      <td>NASHVILLE</td>\n",
       "      <td>TN</td>\n",
       "      <td>291U00000X</td>\n",
       "      <td>PATHGROUP LABS, LLC</td>\n",
       "      <td>207ZP0102X</td>\n",
       "      <td>Allopathic &amp; Osteopathic Physicians</td>\n",
       "      <td>Pathology</td>\n",
       "      <td>Anatomic Pathology &amp; Clinical Pathology</td>\n",
       "    </tr>\n",
       "  </tbody>\n",
       "</table>\n",
       "</div>"
      ],
      "text/plain": [
       "           from_npi      to_npi  patient_count  average_day_wait  from_city  \\\n",
       "2310173  1093753303  1003863580         102736             0.000  BRENTWOOD   \n",
       "2402695  1093753303  1235186800          87351             0.455  BRENTWOOD   \n",
       "\n",
       "        from_state from_taxo_code    to_city to_state to_taxo_code  \\\n",
       "2310173         TN     207ZP0102X  BRENTWOOD       TN   207ZP0102X   \n",
       "2402695         TN     207ZP0102X  NASHVILLE       TN   291U00000X   \n",
       "\n",
       "                           p_org_name        Code  \\\n",
       "2310173  ASSOCIATED PATHOLOGISTS, LLC  207ZP0102X   \n",
       "2402695           PATHGROUP LABS, LLC  207ZP0102X   \n",
       "\n",
       "                                    Grouping Classification  \\\n",
       "2310173  Allopathic & Osteopathic Physicians      Pathology   \n",
       "2402695  Allopathic & Osteopathic Physicians      Pathology   \n",
       "\n",
       "                                  Specialization  \n",
       "2310173  Anatomic Pathology & Clinical Pathology  \n",
       "2402695  Anatomic Pathology & Clinical Pathology  "
      ]
     },
     "execution_count": 234,
     "metadata": {},
     "output_type": "execute_result"
    }
   ],
   "source": [
    "# Sort by patient_counts in TN\n",
    "nh_merge_spez=nh_merge_tn.sort_values(by=\"patient_count\", ascending=False)\n",
    "nh_merge_spez.head(2)"
   ]
  },
  {
   "cell_type": "code",
   "execution_count": 235,
   "metadata": {},
   "outputs": [],
   "source": [
    "#nh_merge_tn.Grouping.value_counts()"
   ]
  },
  {
   "cell_type": "code",
   "execution_count": 236,
   "metadata": {
    "scrolled": true
   },
   "outputs": [
    {
     "data": {
      "text/html": [
       "<div>\n",
       "<style scoped>\n",
       "    .dataframe tbody tr th:only-of-type {\n",
       "        vertical-align: middle;\n",
       "    }\n",
       "\n",
       "    .dataframe tbody tr th {\n",
       "        vertical-align: top;\n",
       "    }\n",
       "\n",
       "    .dataframe thead th {\n",
       "        text-align: right;\n",
       "    }\n",
       "</style>\n",
       "<table border=\"1\" class=\"dataframe\">\n",
       "  <thead>\n",
       "    <tr style=\"text-align: right;\">\n",
       "      <th></th>\n",
       "      <th>Classification</th>\n",
       "      <th>patient_count</th>\n",
       "    </tr>\n",
       "  </thead>\n",
       "  <tbody>\n",
       "    <tr>\n",
       "      <td>10</td>\n",
       "      <td>Internal Medicine</td>\n",
       "      <td>59808</td>\n",
       "    </tr>\n",
       "    <tr>\n",
       "      <td>29</td>\n",
       "      <td>Radiology</td>\n",
       "      <td>28418</td>\n",
       "    </tr>\n",
       "    <tr>\n",
       "      <td>6</td>\n",
       "      <td>Family Medicine</td>\n",
       "      <td>19401</td>\n",
       "    </tr>\n",
       "    <tr>\n",
       "      <td>5</td>\n",
       "      <td>Emergency Medicine</td>\n",
       "      <td>9589</td>\n",
       "    </tr>\n",
       "    <tr>\n",
       "      <td>22</td>\n",
       "      <td>Pathology</td>\n",
       "      <td>6402</td>\n",
       "    </tr>\n",
       "    <tr>\n",
       "      <td>30</td>\n",
       "      <td>Surgery</td>\n",
       "      <td>4835</td>\n",
       "    </tr>\n",
       "    <tr>\n",
       "      <td>1</td>\n",
       "      <td>Anesthesiology</td>\n",
       "      <td>4760</td>\n",
       "    </tr>\n",
       "    <tr>\n",
       "      <td>19</td>\n",
       "      <td>Orthopaedic Surgery</td>\n",
       "      <td>4730</td>\n",
       "    </tr>\n",
       "    <tr>\n",
       "      <td>28</td>\n",
       "      <td>Psychiatry &amp; Neurology</td>\n",
       "      <td>4488</td>\n",
       "    </tr>\n",
       "    <tr>\n",
       "      <td>8</td>\n",
       "      <td>Hospitalist</td>\n",
       "      <td>3084</td>\n",
       "    </tr>\n",
       "    <tr>\n",
       "      <td>17</td>\n",
       "      <td>Ophthalmology</td>\n",
       "      <td>3000</td>\n",
       "    </tr>\n",
       "    <tr>\n",
       "      <td>33</td>\n",
       "      <td>Urology</td>\n",
       "      <td>2697</td>\n",
       "    </tr>\n",
       "    <tr>\n",
       "      <td>16</td>\n",
       "      <td>Obstetrics &amp; Gynecology</td>\n",
       "      <td>1479</td>\n",
       "    </tr>\n",
       "    <tr>\n",
       "      <td>25</td>\n",
       "      <td>Physical Medicine &amp; Rehabilitation</td>\n",
       "      <td>1381</td>\n",
       "    </tr>\n",
       "    <tr>\n",
       "      <td>4</td>\n",
       "      <td>Dermatology</td>\n",
       "      <td>956</td>\n",
       "    </tr>\n",
       "    <tr>\n",
       "      <td>20</td>\n",
       "      <td>Otolaryngology</td>\n",
       "      <td>939</td>\n",
       "    </tr>\n",
       "    <tr>\n",
       "      <td>12</td>\n",
       "      <td>Neurological Surgery</td>\n",
       "      <td>899</td>\n",
       "    </tr>\n",
       "    <tr>\n",
       "      <td>0</td>\n",
       "      <td>Allergy &amp; Immunology</td>\n",
       "      <td>720</td>\n",
       "    </tr>\n",
       "    <tr>\n",
       "      <td>7</td>\n",
       "      <td>General Practice</td>\n",
       "      <td>664</td>\n",
       "    </tr>\n",
       "    <tr>\n",
       "      <td>31</td>\n",
       "      <td>Thoracic Surgery (Cardiothoracic Vascular Surg...</td>\n",
       "      <td>660</td>\n",
       "    </tr>\n",
       "    <tr>\n",
       "      <td>21</td>\n",
       "      <td>Pain Medicine</td>\n",
       "      <td>631</td>\n",
       "    </tr>\n",
       "    <tr>\n",
       "      <td>23</td>\n",
       "      <td>Pediatrics</td>\n",
       "      <td>179</td>\n",
       "    </tr>\n",
       "    <tr>\n",
       "      <td>3</td>\n",
       "      <td>Colon &amp; Rectal Surgery</td>\n",
       "      <td>142</td>\n",
       "    </tr>\n",
       "    <tr>\n",
       "      <td>26</td>\n",
       "      <td>Plastic Surgery</td>\n",
       "      <td>140</td>\n",
       "    </tr>\n",
       "    <tr>\n",
       "      <td>32</td>\n",
       "      <td>Transplant Surgery</td>\n",
       "      <td>77</td>\n",
       "    </tr>\n",
       "    <tr>\n",
       "      <td>27</td>\n",
       "      <td>Preventive Medicine</td>\n",
       "      <td>55</td>\n",
       "    </tr>\n",
       "    <tr>\n",
       "      <td>14</td>\n",
       "      <td>Neuromusculoskeletal Medicine, Sports Medicine</td>\n",
       "      <td>30</td>\n",
       "    </tr>\n",
       "    <tr>\n",
       "      <td>15</td>\n",
       "      <td>Nuclear Medicine</td>\n",
       "      <td>28</td>\n",
       "    </tr>\n",
       "    <tr>\n",
       "      <td>18</td>\n",
       "      <td>Oral &amp; Maxillofacial Surgery</td>\n",
       "      <td>16</td>\n",
       "    </tr>\n",
       "    <tr>\n",
       "      <td>11</td>\n",
       "      <td>Medical Genetics</td>\n",
       "      <td>8</td>\n",
       "    </tr>\n",
       "    <tr>\n",
       "      <td>24</td>\n",
       "      <td>Phlebology</td>\n",
       "      <td>6</td>\n",
       "    </tr>\n",
       "    <tr>\n",
       "      <td>2</td>\n",
       "      <td>Clinical Pharmacology</td>\n",
       "      <td>4</td>\n",
       "    </tr>\n",
       "    <tr>\n",
       "      <td>9</td>\n",
       "      <td>Independent Medical Examiner</td>\n",
       "      <td>2</td>\n",
       "    </tr>\n",
       "    <tr>\n",
       "      <td>13</td>\n",
       "      <td>Neuromusculoskeletal Medicine &amp; OMM</td>\n",
       "      <td>1</td>\n",
       "    </tr>\n",
       "  </tbody>\n",
       "</table>\n",
       "</div>"
      ],
      "text/plain": [
       "                                       Classification  patient_count\n",
       "10                                  Internal Medicine          59808\n",
       "29                                          Radiology          28418\n",
       "6                                     Family Medicine          19401\n",
       "5                                  Emergency Medicine           9589\n",
       "22                                          Pathology           6402\n",
       "30                                            Surgery           4835\n",
       "1                                      Anesthesiology           4760\n",
       "19                                Orthopaedic Surgery           4730\n",
       "28                             Psychiatry & Neurology           4488\n",
       "8                                         Hospitalist           3084\n",
       "17                                      Ophthalmology           3000\n",
       "33                                            Urology           2697\n",
       "16                            Obstetrics & Gynecology           1479\n",
       "25                 Physical Medicine & Rehabilitation           1381\n",
       "4                                         Dermatology            956\n",
       "20                                     Otolaryngology            939\n",
       "12                               Neurological Surgery            899\n",
       "0                                Allergy & Immunology            720\n",
       "7                                    General Practice            664\n",
       "31  Thoracic Surgery (Cardiothoracic Vascular Surg...            660\n",
       "21                                      Pain Medicine            631\n",
       "23                                         Pediatrics            179\n",
       "3                              Colon & Rectal Surgery            142\n",
       "26                                    Plastic Surgery            140\n",
       "32                                 Transplant Surgery             77\n",
       "27                                Preventive Medicine             55\n",
       "14     Neuromusculoskeletal Medicine, Sports Medicine             30\n",
       "15                                   Nuclear Medicine             28\n",
       "18                       Oral & Maxillofacial Surgery             16\n",
       "11                                   Medical Genetics              8\n",
       "24                                         Phlebology              6\n",
       "2                               Clinical Pharmacology              4\n",
       "9                        Independent Medical Examiner              2\n",
       "13                Neuromusculoskeletal Medicine & OMM              1"
      ]
     },
     "execution_count": 236,
     "metadata": {},
     "output_type": "execute_result"
    }
   ],
   "source": [
    "#number of times a specific specialization referred the patients to the facility\n",
    "grouping=nh_merge_tn.query('Grouping==\"Allopathic & Osteopathic Physicians\"')\n",
    "c=grouping.groupby(['Classification'])['patient_count'].count().reset_index()\n",
    "c.sort_values(by=\"patient_count\", ascending=False)"
   ]
  },
  {
   "cell_type": "code",
   "execution_count": 237,
   "metadata": {},
   "outputs": [
    {
     "data": {
      "text/html": [
       "<div>\n",
       "<style scoped>\n",
       "    .dataframe tbody tr th:only-of-type {\n",
       "        vertical-align: middle;\n",
       "    }\n",
       "\n",
       "    .dataframe tbody tr th {\n",
       "        vertical-align: top;\n",
       "    }\n",
       "\n",
       "    .dataframe thead th {\n",
       "        text-align: right;\n",
       "    }\n",
       "</style>\n",
       "<table border=\"1\" class=\"dataframe\">\n",
       "  <thead>\n",
       "    <tr style=\"text-align: right;\">\n",
       "      <th></th>\n",
       "      <th>Classification</th>\n",
       "      <th>patient_count</th>\n",
       "    </tr>\n",
       "  </thead>\n",
       "  <tbody>\n",
       "    <tr>\n",
       "      <td>0</td>\n",
       "      <td>Allergy &amp; Immunology</td>\n",
       "      <td>720</td>\n",
       "    </tr>\n",
       "    <tr>\n",
       "      <td>1</td>\n",
       "      <td>Anesthesiology</td>\n",
       "      <td>4760</td>\n",
       "    </tr>\n",
       "    <tr>\n",
       "      <td>2</td>\n",
       "      <td>Clinical Pharmacology</td>\n",
       "      <td>4</td>\n",
       "    </tr>\n",
       "    <tr>\n",
       "      <td>3</td>\n",
       "      <td>Colon &amp; Rectal Surgery</td>\n",
       "      <td>142</td>\n",
       "    </tr>\n",
       "    <tr>\n",
       "      <td>4</td>\n",
       "      <td>Dermatology</td>\n",
       "      <td>956</td>\n",
       "    </tr>\n",
       "    <tr>\n",
       "      <td>5</td>\n",
       "      <td>Emergency Medicine</td>\n",
       "      <td>9589</td>\n",
       "    </tr>\n",
       "    <tr>\n",
       "      <td>6</td>\n",
       "      <td>Family Medicine</td>\n",
       "      <td>19401</td>\n",
       "    </tr>\n",
       "    <tr>\n",
       "      <td>7</td>\n",
       "      <td>General Practice</td>\n",
       "      <td>664</td>\n",
       "    </tr>\n",
       "    <tr>\n",
       "      <td>8</td>\n",
       "      <td>Hospitalist</td>\n",
       "      <td>3084</td>\n",
       "    </tr>\n",
       "    <tr>\n",
       "      <td>9</td>\n",
       "      <td>Independent Medical Examiner</td>\n",
       "      <td>2</td>\n",
       "    </tr>\n",
       "  </tbody>\n",
       "</table>\n",
       "</div>"
      ],
      "text/plain": [
       "                 Classification  patient_count\n",
       "0          Allergy & Immunology            720\n",
       "1                Anesthesiology           4760\n",
       "2         Clinical Pharmacology              4\n",
       "3        Colon & Rectal Surgery            142\n",
       "4                   Dermatology            956\n",
       "5            Emergency Medicine           9589\n",
       "6               Family Medicine          19401\n",
       "7              General Practice            664\n",
       "8                   Hospitalist           3084\n",
       "9  Independent Medical Examiner              2"
      ]
     },
     "execution_count": 237,
     "metadata": {},
     "output_type": "execute_result"
    }
   ],
   "source": [
    "c.head(10)"
   ]
  },
  {
   "cell_type": "code",
   "execution_count": 238,
   "metadata": {},
   "outputs": [],
   "source": [
    "#grouping.groupby(['Classification', 'from_npi'])['patient_count'].sum()"
   ]
  },
  {
   "cell_type": "code",
   "execution_count": 239,
   "metadata": {},
   "outputs": [],
   "source": [
    "#grouping.groupby(['Classification', 'from_npi'])['Classification'].count()"
   ]
  },
  {
   "cell_type": "code",
   "execution_count": 240,
   "metadata": {},
   "outputs": [
    {
     "data": {
      "text/html": [
       "<div>\n",
       "<style scoped>\n",
       "    .dataframe tbody tr th:only-of-type {\n",
       "        vertical-align: middle;\n",
       "    }\n",
       "\n",
       "    .dataframe tbody tr th {\n",
       "        vertical-align: top;\n",
       "    }\n",
       "\n",
       "    .dataframe thead th {\n",
       "        text-align: right;\n",
       "    }\n",
       "</style>\n",
       "<table border=\"1\" class=\"dataframe\">\n",
       "  <thead>\n",
       "    <tr style=\"text-align: right;\">\n",
       "      <th></th>\n",
       "      <th>from_npi</th>\n",
       "      <th>to_npi</th>\n",
       "      <th>patient_count</th>\n",
       "      <th>average_day_wait</th>\n",
       "      <th>from_city</th>\n",
       "      <th>from_state</th>\n",
       "      <th>from_taxo_code</th>\n",
       "      <th>to_city</th>\n",
       "      <th>to_state</th>\n",
       "      <th>to_taxo_code</th>\n",
       "      <th>p_org_name</th>\n",
       "      <th>Code</th>\n",
       "      <th>Grouping</th>\n",
       "      <th>Classification</th>\n",
       "      <th>Specialization</th>\n",
       "    </tr>\n",
       "  </thead>\n",
       "  <tbody>\n",
       "    <tr>\n",
       "      <td>3079007</td>\n",
       "      <td>1447268024</td>\n",
       "      <td>1295780476</td>\n",
       "      <td>38</td>\n",
       "      <td>17.983</td>\n",
       "      <td>NASHVILLE</td>\n",
       "      <td>TN</td>\n",
       "      <td>202C00000X</td>\n",
       "      <td>NASHVILLE</td>\n",
       "      <td>TN</td>\n",
       "      <td>282N00000X</td>\n",
       "      <td>HTI MEMORIAL HOSPITAL CORPORATION</td>\n",
       "      <td>202C00000X</td>\n",
       "      <td>Allopathic &amp; Osteopathic Physicians</td>\n",
       "      <td>Independent Medical Examiner</td>\n",
       "      <td>NaN</td>\n",
       "    </tr>\n",
       "    <tr>\n",
       "      <td>3312556</td>\n",
       "      <td>1447268024</td>\n",
       "      <td>1871779124</td>\n",
       "      <td>48</td>\n",
       "      <td>0.000</td>\n",
       "      <td>NASHVILLE</td>\n",
       "      <td>TN</td>\n",
       "      <td>202C00000X</td>\n",
       "      <td>NASHVILLE</td>\n",
       "      <td>TN</td>\n",
       "      <td>208600000X</td>\n",
       "      <td>PRAMOD B. WASUDEV, M.D., PLLC</td>\n",
       "      <td>202C00000X</td>\n",
       "      <td>Allopathic &amp; Osteopathic Physicians</td>\n",
       "      <td>Independent Medical Examiner</td>\n",
       "      <td>NaN</td>\n",
       "    </tr>\n",
       "  </tbody>\n",
       "</table>\n",
       "</div>"
      ],
      "text/plain": [
       "           from_npi      to_npi  patient_count  average_day_wait  from_city  \\\n",
       "3079007  1447268024  1295780476             38            17.983  NASHVILLE   \n",
       "3312556  1447268024  1871779124             48             0.000  NASHVILLE   \n",
       "\n",
       "        from_state from_taxo_code    to_city to_state to_taxo_code  \\\n",
       "3079007         TN     202C00000X  NASHVILLE       TN   282N00000X   \n",
       "3312556         TN     202C00000X  NASHVILLE       TN   208600000X   \n",
       "\n",
       "                                p_org_name        Code  \\\n",
       "3079007  HTI MEMORIAL HOSPITAL CORPORATION  202C00000X   \n",
       "3312556      PRAMOD B. WASUDEV, M.D., PLLC  202C00000X   \n",
       "\n",
       "                                    Grouping                Classification  \\\n",
       "3079007  Allopathic & Osteopathic Physicians  Independent Medical Examiner   \n",
       "3312556  Allopathic & Osteopathic Physicians  Independent Medical Examiner   \n",
       "\n",
       "        Specialization  \n",
       "3079007            NaN  \n",
       "3312556            NaN  "
      ]
     },
     "execution_count": 240,
     "metadata": {},
     "output_type": "execute_result"
    }
   ],
   "source": [
    "grouping.query('Classification==\"Independent Medical Examiner\"')"
   ]
  },
  {
   "cell_type": "code",
   "execution_count": 241,
   "metadata": {},
   "outputs": [
    {
     "data": {
      "image/png": "[encoded data removed]",
      "text/plain": [
       "<Figure size 432x432 with 1 Axes>"
      ]
     },
     "metadata": {},
     "output_type": "display_data"
    }
   ],
   "source": [
    "c1=c.query(\"patient_count >= 9000\")\n",
    "c1=c1.sort_values(by='patient_count', ascending=False)\n",
    "f, ax = plt.subplots(figsize=(6, 6))\n",
    "sns.set_color_codes(\"pastel\")\n",
    "sns.barplot(x=\"patient_count\", y=\"Classification\", data=c1,\n",
    "            label=\"Specialty\", color=\"navy\", palette=\"deep\")\n",
    "sns.despine()\n",
    "plt.title('Count of Specialty Referral to Facility', fontsize=16)\n",
    "plt.xlabel('Counts', fontsize=16)\n",
    "plt.ylabel('Specialization', fontsize=16)\n",
    "plt.xticks(fontsize=15, rotation=45)\n",
    "plt.yticks(fontsize=15)\n",
    "plt.tight_layout()\n",
    "plt.savefig(\"specialty.png\", dpi=300);"
   ]
  },
  {
   "cell_type": "code",
   "execution_count": 242,
   "metadata": {},
   "outputs": [
    {
     "data": {
      "image/png": "[encoded data removed]",
      "text/plain": [
       "<Figure size 720x504 with 1 Axes>"
      ]
     },
     "metadata": {},
     "output_type": "display_data"
    }
   ],
   "source": [
    "#c2=c.query(\"patient_count <= 9000 or patient_count >1000\")\n",
    "c2=c[(c['patient_count'] > 1000) & (c['patient_count'] < 9000)]\n",
    "c2=c2.sort_values(by='patient_count', ascending=False)\n",
    "f, ax = plt.subplots(figsize=(10, 7))\n",
    "sns.set_color_codes(\"pastel\")\n",
    "sns.barplot(x=\"patient_count\", y=\"Classification\", data=c2, label=\"Specialty\", color=\"navy\", palette=\"deep\")\n",
    "sns.despine()\n",
    "plt.title('Count of Specialty Referral to Facility', fontsize=16)\n",
    "plt.xlabel('Counts', fontsize=16)\n",
    "plt.ylabel('Specialization', fontsize=16)\n",
    "plt.xticks(fontsize=15, rotation=45)\n",
    "plt.yticks(fontsize=15)\n",
    "plt.tight_layout()\n",
    "plt.savefig(\"specialty1.png\", dpi=300);"
   ]
  },
  {
   "cell_type": "code",
   "execution_count": 243,
   "metadata": {},
   "outputs": [
    {
     "data": {
      "text/html": [
       "<div>\n",
       "<style scoped>\n",
       "    .dataframe tbody tr th:only-of-type {\n",
       "        vertical-align: middle;\n",
       "    }\n",
       "\n",
       "    .dataframe tbody tr th {\n",
       "        vertical-align: top;\n",
       "    }\n",
       "\n",
       "    .dataframe thead th {\n",
       "        text-align: right;\n",
       "    }\n",
       "</style>\n",
       "<table border=\"1\" class=\"dataframe\">\n",
       "  <thead>\n",
       "    <tr style=\"text-align: right;\">\n",
       "      <th></th>\n",
       "      <th>Classification</th>\n",
       "      <th>patient_count</th>\n",
       "    </tr>\n",
       "  </thead>\n",
       "  <tbody>\n",
       "    <tr>\n",
       "      <td>22</td>\n",
       "      <td>Pathology</td>\n",
       "      <td>6402</td>\n",
       "    </tr>\n",
       "    <tr>\n",
       "      <td>30</td>\n",
       "      <td>Surgery</td>\n",
       "      <td>4835</td>\n",
       "    </tr>\n",
       "    <tr>\n",
       "      <td>1</td>\n",
       "      <td>Anesthesiology</td>\n",
       "      <td>4760</td>\n",
       "    </tr>\n",
       "    <tr>\n",
       "      <td>19</td>\n",
       "      <td>Orthopaedic Surgery</td>\n",
       "      <td>4730</td>\n",
       "    </tr>\n",
       "    <tr>\n",
       "      <td>28</td>\n",
       "      <td>Psychiatry &amp; Neurology</td>\n",
       "      <td>4488</td>\n",
       "    </tr>\n",
       "  </tbody>\n",
       "</table>\n",
       "</div>"
      ],
      "text/plain": [
       "            Classification  patient_count\n",
       "22               Pathology           6402\n",
       "30                 Surgery           4835\n",
       "1           Anesthesiology           4760\n",
       "19     Orthopaedic Surgery           4730\n",
       "28  Psychiatry & Neurology           4488"
      ]
     },
     "execution_count": 243,
     "metadata": {},
     "output_type": "execute_result"
    }
   ],
   "source": [
    "c2.head()"
   ]
  },
  {
   "cell_type": "markdown",
   "metadata": {},
   "source": [
    "nh_tn_count=nh_merge_tn.groupby(['p_org_name'])['Classification'].count().reset_index()\n",
    "nh_tn_count_sort=nh_tn_count.sort_values(by=\"Classification\", ascending=False)"
   ]
  },
  {
   "cell_type": "code",
   "execution_count": 244,
   "metadata": {},
   "outputs": [],
   "source": [
    "nh_tn_count1=nh_merge_tn.groupby(['p_org_name', 'Classification']).count().reset_index()\n",
    "#nh_tn_count1.head()"
   ]
  },
  {
   "cell_type": "markdown",
   "metadata": {},
   "source": [
    "int_path="
   ]
  },
  {
   "cell_type": "markdown",
   "metadata": {},
   "source": [
    "e = e[(e.country == 'Indonesia')|(e.country == 'Japan')|(e.country == 'China')|(e.country == 'Pakistan')|(e.country == 'Italy')|(e.country == 'Iran')|(e.country == 'Peru')| (e.country == 'Chile') | (e.country == 'Guatemala') | (e.country == 'Mexico')]\n",
    "f, ax = plt.subplots(figsize=(15, 5))\n",
    "pal = sns.color_palette(\"Set3\", 13)\n",
    "j = e.groupby(['country', 'secondary_effects'])['death'].sum().unstack()\n",
    "j.nlargest(10,[\n",
    "'T,L',\n",
    "'T,F',\n",
    "'L',\n",
    "'F',\n",
    "'L,F',\n",
    "'L,F,Lq',\n",
    "'L,Lq',\n",
    "'T',\n",
    "'T,L,Lq',\n",
    "'T,LF',\n",
    "'T,Lq']).plot(kind='barh', color=pal, stacked=True, ax=ax);"
   ]
  },
  {
   "cell_type": "code",
   "execution_count": null,
   "metadata": {},
   "outputs": [],
   "source": []
  },
  {
   "cell_type": "code",
   "execution_count": null,
   "metadata": {},
   "outputs": [],
   "source": [
    "#specialities in TN: select specific dataset"
   ]
  },
  {
   "cell_type": "code",
   "execution_count": null,
   "metadata": {},
   "outputs": [],
   "source": [
    "#Groupby provider name?"
   ]
  },
  {
   "cell_type": "code",
   "execution_count": null,
   "metadata": {},
   "outputs": [],
   "source": [
    "#ipwidget for speciality\n",
    "from ipywidgets import interact\n",
    "from ipywidgets import Dropdown\n",
    "import matplotlib.pyplot as plt"
   ]
  },
  {
   "cell_type": "code",
   "execution_count": null,
   "metadata": {},
   "outputs": [],
   "source": [
    "x_widget = Dropdown(options= nh_merge_taxo_state['from_state'].unique())\n",
    "#y_widget = Dropdown(options= nh_merge_tn['to_city'].unique())\n",
    "y_widget=Dropdown()\n",
    "#Define a function that updates the content of y based on what we select for x\n",
    "def update(*args):\n",
    "    y_widget.options = nh_merge_taxo_state[nh_merge_taxo_state['from_state'] == x_widget.value]['to_city'].unique()\n",
    "x_widget.observe(update)\n",
    "\n",
    "def special_selector(State, city):\n",
    "    \n",
    "    city_fav=nh_merge_taxo_state[nh_merge_taxo_state['to_city']== city]\n",
    "    sns.set(rc={'figure.figsize': (15,8)}, style='white')\n",
    "    sns.set_style(\"ticks\")\n",
    "    specialization=city_fav['Classification'].value_counts().head(10)\n",
    "    sns.barplot(specialization.index, specialization.values, palette=\"cubehelix\")\n",
    "    sns.despine()\n",
    "    plt.xlabel('', fontsize=16)\n",
    "    plt.ylabel('Counts', fontsize=16)\n",
    "    plt.xticks(fontsize=15, rotation=90)\n",
    "    plt.yticks(fontsize=15);"
   ]
  },
  {
   "cell_type": "code",
   "execution_count": null,
   "metadata": {},
   "outputs": [],
   "source": [
    "def special_selector(State, city):\n",
    "    \n",
    "    city_fav=nh_merge_taxo_state[nh_merge_taxo_state['to_city']== city]\n",
    "    sns.set(rc={'figure.figsize': (15,8)}, style='white')\n",
    "    sns.set_style(\"ticks\")\n",
    "    specialization=city_fav['Classification'].value_counts().head(10)\n",
    "    sns.barplot(specialization.index, specialization.values, palette=\"cubehelix\")"
   ]
  },
  {
   "cell_type": "code",
   "execution_count": null,
   "metadata": {},
   "outputs": [],
   "source": [
    "i=nh_merge_taxo_state.iloc[0:100]"
   ]
  },
  {
   "cell_type": "code",
   "execution_count": null,
   "metadata": {},
   "outputs": [],
   "source": []
  },
  {
   "cell_type": "code",
   "execution_count": null,
   "metadata": {},
   "outputs": [],
   "source": [
    "nh"
   ]
  },
  {
   "cell_type": "code",
   "execution_count": null,
   "metadata": {},
   "outputs": [],
   "source": [
    "interact(special_selector,\n",
    "        State=x_widget,\n",
    "        city= y_widget);"
   ]
  },
  {
   "cell_type": "code",
   "execution_count": null,
   "metadata": {},
   "outputs": [],
   "source": [
    "x_widget = Dropdown(options= nh_merge_taxo_state['from_state'].unique())\n",
    "#y_widget = Dropdown(options= nh_merge_taxo_state['from_state'].unique())\n",
    "y_widget=Dropdown()\n",
    "#Define a function that updates the content of y based on what we select for x\n",
    "def update(*args):\n",
    "    y_widget.options = nh_merge_taxo_state[nh_merge_taxo_state['from_state'] == x_widget.value]['Classification'].unique()\n",
    "x_widget.observe(update)\n",
    "\n",
    "def special_selector(State, Specialty):\n",
    "    \n",
    "    city_fav=nh_merge_taxo_state[nh_merge_taxo_state['Classification']== Specialty]\n",
    "    sns.set(rc={'figure.figsize': (15,8)}, style='white')\n",
    "    sns.set_style(\"ticks\")\n",
    "    specialization=city_fav['from_npi'].value_counts().head()\n",
    "    sns.barplot(specialization.index, specialization.values, palette=\"cubehelix\")\n",
    "    sns.despine()\n",
    "    plt.xlabel('', fontsize=16)\n",
    "    plt.ylabel('Counts', fontsize=16)\n",
    "    plt.xticks(fontsize=15, rotation=90)\n",
    "    plt.yticks(fontsize=15);"
   ]
  },
  {
   "cell_type": "code",
   "execution_count": 162,
   "metadata": {},
   "outputs": [
    {
     "data": {
      "application/vnd.jupyter.widget-view+json": {
       "model_id": "1e708d09e54a4550b3567091f7db1774",
       "version_major": 2,
       "version_minor": 0
      },
      "text/plain": [
       "interactive(children=(Dropdown(description='State', options=('GA', 'CA', 'OH', 'UT', 'KY', 'IL', 'MI', 'FL', '…"
      ]
     },
     "metadata": {},
     "output_type": "display_data"
    }
   ],
   "source": [
    "interact(special_selector,\n",
    "        State=x_widget,\n",
    "        Specialty= y_widget);"
   ]
  },
  {
   "cell_type": "code",
   "execution_count": 166,
   "metadata": {},
   "outputs": [
    {
     "data": {
      "text/html": [
       "<div>\n",
       "<style scoped>\n",
       "    .dataframe tbody tr th:only-of-type {\n",
       "        vertical-align: middle;\n",
       "    }\n",
       "\n",
       "    .dataframe tbody tr th {\n",
       "        vertical-align: top;\n",
       "    }\n",
       "\n",
       "    .dataframe thead th {\n",
       "        text-align: right;\n",
       "    }\n",
       "</style>\n",
       "<table border=\"1\" class=\"dataframe\">\n",
       "  <thead>\n",
       "    <tr style=\"text-align: right;\">\n",
       "      <th></th>\n",
       "      <th>from_npi</th>\n",
       "      <th>to_npi</th>\n",
       "      <th>patient_count</th>\n",
       "      <th>average_day_wait</th>\n",
       "      <th>from_city</th>\n",
       "      <th>from_state</th>\n",
       "      <th>from_taxo_code</th>\n",
       "      <th>to_city</th>\n",
       "      <th>to_state</th>\n",
       "      <th>to_taxo_code</th>\n",
       "      <th>p_org_name</th>\n",
       "      <th>Code</th>\n",
       "      <th>Grouping</th>\n",
       "      <th>Classification</th>\n",
       "      <th>Specialization</th>\n",
       "    </tr>\n",
       "  </thead>\n",
       "  <tbody>\n",
       "    <tr>\n",
       "      <td>1054952</td>\n",
       "      <td>1487859294</td>\n",
       "      <td>1659352276</td>\n",
       "      <td>36</td>\n",
       "      <td>41.370</td>\n",
       "      <td>MECCA</td>\n",
       "      <td>CA</td>\n",
       "      <td>202C00000X</td>\n",
       "      <td>SAN DIEGO</td>\n",
       "      <td>CA</td>\n",
       "      <td>291U00000X</td>\n",
       "      <td>LABORATORY CORPORATION OF AMERICA</td>\n",
       "      <td>202C00000X</td>\n",
       "      <td>Allopathic &amp; Osteopathic Physicians</td>\n",
       "      <td>Independent Medical Examiner</td>\n",
       "      <td>NaN</td>\n",
       "    </tr>\n",
       "    <tr>\n",
       "      <td>1164118</td>\n",
       "      <td>1487859294</td>\n",
       "      <td>1932381605</td>\n",
       "      <td>142</td>\n",
       "      <td>0.000</td>\n",
       "      <td>MECCA</td>\n",
       "      <td>CA</td>\n",
       "      <td>202C00000X</td>\n",
       "      <td>COACHELLA</td>\n",
       "      <td>CA</td>\n",
       "      <td>261QF0400X</td>\n",
       "      <td>CLINICAS DE SALUD DEL PUEBLO, INC</td>\n",
       "      <td>202C00000X</td>\n",
       "      <td>Allopathic &amp; Osteopathic Physicians</td>\n",
       "      <td>Independent Medical Examiner</td>\n",
       "      <td>NaN</td>\n",
       "    </tr>\n",
       "    <tr>\n",
       "      <td>3369534</td>\n",
       "      <td>1487859294</td>\n",
       "      <td>1013981554</td>\n",
       "      <td>40</td>\n",
       "      <td>25.695</td>\n",
       "      <td>MECCA</td>\n",
       "      <td>CA</td>\n",
       "      <td>202C00000X</td>\n",
       "      <td>RANCHO MIRAGE</td>\n",
       "      <td>CA</td>\n",
       "      <td>282N00000X</td>\n",
       "      <td>EISENHOWER MEDICAL CENTER</td>\n",
       "      <td>202C00000X</td>\n",
       "      <td>Allopathic &amp; Osteopathic Physicians</td>\n",
       "      <td>Independent Medical Examiner</td>\n",
       "      <td>NaN</td>\n",
       "    </tr>\n",
       "    <tr>\n",
       "      <td>3499261</td>\n",
       "      <td>1487859294</td>\n",
       "      <td>1366479099</td>\n",
       "      <td>111</td>\n",
       "      <td>13.232</td>\n",
       "      <td>MECCA</td>\n",
       "      <td>CA</td>\n",
       "      <td>202C00000X</td>\n",
       "      <td>WEST HILLS</td>\n",
       "      <td>CA</td>\n",
       "      <td>291U00000X</td>\n",
       "      <td>UNILAB CORPORATION</td>\n",
       "      <td>202C00000X</td>\n",
       "      <td>Allopathic &amp; Osteopathic Physicians</td>\n",
       "      <td>Independent Medical Examiner</td>\n",
       "      <td>NaN</td>\n",
       "    </tr>\n",
       "    <tr>\n",
       "      <td>3573535</td>\n",
       "      <td>1487859294</td>\n",
       "      <td>1568416147</td>\n",
       "      <td>51</td>\n",
       "      <td>26.500</td>\n",
       "      <td>MECCA</td>\n",
       "      <td>CA</td>\n",
       "      <td>202C00000X</td>\n",
       "      <td>PALM DESERT</td>\n",
       "      <td>CA</td>\n",
       "      <td>2085R0202X</td>\n",
       "      <td>DESERT ADVANCED IMAGING MEDICAL CENTER</td>\n",
       "      <td>202C00000X</td>\n",
       "      <td>Allopathic &amp; Osteopathic Physicians</td>\n",
       "      <td>Independent Medical Examiner</td>\n",
       "      <td>NaN</td>\n",
       "    </tr>\n",
       "  </tbody>\n",
       "</table>\n",
       "</div>"
      ],
      "text/plain": [
       "           from_npi      to_npi  patient_count  average_day_wait from_city  \\\n",
       "1054952  1487859294  1659352276             36            41.370     MECCA   \n",
       "1164118  1487859294  1932381605            142             0.000     MECCA   \n",
       "3369534  1487859294  1013981554             40            25.695     MECCA   \n",
       "3499261  1487859294  1366479099            111            13.232     MECCA   \n",
       "3573535  1487859294  1568416147             51            26.500     MECCA   \n",
       "\n",
       "        from_state from_taxo_code        to_city to_state to_taxo_code  \\\n",
       "1054952         CA     202C00000X      SAN DIEGO       CA   291U00000X   \n",
       "1164118         CA     202C00000X      COACHELLA       CA   261QF0400X   \n",
       "3369534         CA     202C00000X  RANCHO MIRAGE       CA   282N00000X   \n",
       "3499261         CA     202C00000X     WEST HILLS       CA   291U00000X   \n",
       "3573535         CA     202C00000X    PALM DESERT       CA   2085R0202X   \n",
       "\n",
       "                                     p_org_name        Code  \\\n",
       "1054952       LABORATORY CORPORATION OF AMERICA  202C00000X   \n",
       "1164118       CLINICAS DE SALUD DEL PUEBLO, INC  202C00000X   \n",
       "3369534               EISENHOWER MEDICAL CENTER  202C00000X   \n",
       "3499261                      UNILAB CORPORATION  202C00000X   \n",
       "3573535  DESERT ADVANCED IMAGING MEDICAL CENTER  202C00000X   \n",
       "\n",
       "                                    Grouping                Classification  \\\n",
       "1054952  Allopathic & Osteopathic Physicians  Independent Medical Examiner   \n",
       "1164118  Allopathic & Osteopathic Physicians  Independent Medical Examiner   \n",
       "3369534  Allopathic & Osteopathic Physicians  Independent Medical Examiner   \n",
       "3499261  Allopathic & Osteopathic Physicians  Independent Medical Examiner   \n",
       "3573535  Allopathic & Osteopathic Physicians  Independent Medical Examiner   \n",
       "\n",
       "        Specialization  \n",
       "1054952            NaN  \n",
       "1164118            NaN  \n",
       "3369534            NaN  \n",
       "3499261            NaN  \n",
       "3573535            NaN  "
      ]
     },
     "execution_count": 166,
     "metadata": {},
     "output_type": "execute_result"
    }
   ],
   "source": [
    "nh_merge_taxo_state.query('from_npi==1487859294')"
   ]
  },
  {
   "cell_type": "code",
   "execution_count": null,
   "metadata": {},
   "outputs": [],
   "source": [
    "taxo_df.head()"
   ]
  },
  {
   "cell_type": "code",
   "execution_count": null,
   "metadata": {},
   "outputs": [],
   "source": [
    "## "
   ]
  },
  {
   "cell_type": "markdown",
   "metadata": {},
   "source": [
    "# Number of patients seen by specialists in TN vs NY or nashville vs NY city or Boston"
   ]
  },
  {
   "cell_type": "markdown",
   "metadata": {},
   "source": [
    "# Find mean"
   ]
  },
  {
   "cell_type": "markdown",
   "metadata": {},
   "source": [
    "# Merging NPI and taxonomy on the taxonomy code"
   ]
  },
  {
   "cell_type": "code",
   "execution_count": null,
   "metadata": {},
   "outputs": [],
   "source": [
    "npi_taxo=pd.merge(npi_infoclean, taxo_df, how='left', left_on='taxonomy', right_on='Code')"
   ]
  },
  {
   "cell_type": "code",
   "execution_count": null,
   "metadata": {},
   "outputs": [],
   "source": [
    "npi_taxo.info()"
   ]
  },
  {
   "cell_type": "code",
   "execution_count": null,
   "metadata": {},
   "outputs": [],
   "source": [
    "npi_taxo=npi_taxo[['NPI', 'Entity_Type_Code', 'p_org_name', 'p_last_name', 'p_first_name', 'p_other_org_name',\\\n",
    "                  'p_other_org_name_typecode', 'p_business_add1', 'p_businss_add2', 'p_city', 'p_state', \\\n",
    "                  'taxonomy', 'ziplength', 'Grouping', 'Classification', 'Specialization']]"
   ]
  },
  {
   "cell_type": "code",
   "execution_count": null,
   "metadata": {},
   "outputs": [],
   "source": [
    "npi_taxo.head()"
   ]
  },
  {
   "cell_type": "code",
   "execution_count": null,
   "metadata": {},
   "outputs": [],
   "source": [
    "npi_taxo_nash=npi_taxo.query('p_city==\"NASHVILLE\"')"
   ]
  },
  {
   "cell_type": "code",
   "execution_count": null,
   "metadata": {},
   "outputs": [],
   "source": []
  }
 ],
 "metadata": {
  "kernelspec": {
   "display_name": "Python 3",
   "language": "python",
   "name": "python3"
  },
  "language_info": {
   "codemirror_mode": {
    "name": "ipython",
    "version": 3
   },
   "file_extension": ".py",
   "mimetype": "text/x-python",
   "name": "python",
   "nbconvert_exporter": "python",
   "pygments_lexer": "ipython3",
   "version": "3.7.4"
  }
 },
 "nbformat": 4,
 "nbformat_minor": 2
}
