{
 "cells": [
  {
   "cell_type": "code",
   "execution_count": 2,
   "metadata": {},
   "outputs": [],
   "source": [
    "import pandas as pd\n",
    "import psycopg2\n",
    "import pandas.io.sql as psql\n",
    "\n",
    "conn = psycopg2.connect(user = \"postgres\",\n",
    "                                  password = \"postgres\", # change yourpassword to your password for postgres\n",
    "                                  host = \"localhost\",\n",
    "                                  port = 5432,\n",
    "                                  database = \"healthcare_bluebook\")\n",
    "import matplotlib.pyplot as plt\n",
    "import seaborn as sns"
   ]
  },
  {
   "cell_type": "code",
   "execution_count": null,
   "metadata": {},
   "outputs": [],
   "source": [
    "#Use dask to read the hopteaming data"
   ]
  },
  {
   "cell_type": "code",
   "execution_count": 4,
   "metadata": {},
   "outputs": [],
   "source": [
    "import dask.dataframe as dd\n",
    "from dask.distributed import Client"
   ]
  },
  {
   "cell_type": "code",
   "execution_count": 15,
   "metadata": {},
   "outputs": [
    {
     "name": "stderr",
     "output_type": "stream",
     "text": [
      "/opt/anaconda3/lib/python3.7/site-packages/distributed/dashboard/core.py:72: UserWarning: \n",
      "Port 8787 is already in use. \n",
      "Perhaps you already have a cluster running?\n",
      "Hosting the diagnostics dashboard on a random port instead.\n",
      "  warnings.warn(\"\\n\" + msg)\n"
     ]
    },
    {
     "data": {
      "text/html": [
       "<table style=\"border: 2px solid white;\">\n",
       "<tr>\n",
       "<td style=\"vertical-align: top; border: 0px solid white\">\n",
       "<h3 style=\"text-align: left;\">Client</h3>\n",
       "<ul style=\"text-align: left; list-style: none; margin: 0; padding: 0;\">\n",
       "  <li><b>Scheduler: </b>tcp://127.0.0.1:61608</li>\n",
       "  <li><b>Dashboard: </b><a href='http://127.0.0.1:61609/status' target='_blank'>http://127.0.0.1:61609/status</a>\n",
       "</ul>\n",
       "</td>\n",
       "<td style=\"vertical-align: top; border: 0px solid white\">\n",
       "<h3 style=\"text-align: left;\">Cluster</h3>\n",
       "<ul style=\"text-align: left; list-style:none; margin: 0; padding: 0;\">\n",
       "  <li><b>Workers: </b>4</li>\n",
       "  <li><b>Cores: </b>8</li>\n",
       "  <li><b>Memory: </b>17.18 GB</li>\n",
       "</ul>\n",
       "</td>\n",
       "</tr>\n",
       "</table>"
      ],
      "text/plain": [
       "<Client: 'tcp://127.0.0.1:61608' processes=4 threads=8, memory=17.18 GB>"
      ]
     },
     "execution_count": 15,
     "metadata": {},
     "output_type": "execute_result"
    }
   ],
   "source": [
    "client = Client()\n",
    "client"
   ]
  },
  {
   "cell_type": "code",
   "execution_count": 6,
   "metadata": {},
   "outputs": [],
   "source": [
    "hop_teaming = dd.read_csv('data/DocGraph_Hop_Teaming_2017_Non_Commercial/DocGraph_Hop_Teaming_2017.csv')"
   ]
  },
  {
   "cell_type": "code",
   "execution_count": 7,
   "metadata": {},
   "outputs": [],
   "source": [
    "hop_teaming_filterd = hop_teaming[(hop_teaming.transaction_count > 50) & (hop_teaming.average_day_wait < 50)]"
   ]
  },
  {
   "cell_type": "code",
   "execution_count": 8,
   "metadata": {},
   "outputs": [
    {
     "data": {
      "text/plain": [
       "['/Volumes/NSS/healthcare_bluebook/dq6-hcbb-healthcare_busters/hop_teaming_filterd.csv']"
      ]
     },
     "execution_count": 8,
     "metadata": {},
     "output_type": "execute_result"
    }
   ],
   "source": [
    "hop_teaming_filterd.to_csv('hop_teaming_filterd.csv', index = False, single_file = True)"
   ]
  },
  {
   "cell_type": "code",
   "execution_count": 13,
   "metadata": {},
   "outputs": [],
   "source": [
    "hop_team_filterd=pd.read_csv('data/hop_teaming_filterd.csv')"
   ]
  },
  {
   "cell_type": "code",
   "execution_count": 14,
   "metadata": {},
   "outputs": [
    {
     "data": {
      "text/html": [
       "<div>\n",
       "<style scoped>\n",
       "    .dataframe tbody tr th:only-of-type {\n",
       "        vertical-align: middle;\n",
       "    }\n",
       "\n",
       "    .dataframe tbody tr th {\n",
       "        vertical-align: top;\n",
       "    }\n",
       "\n",
       "    .dataframe thead th {\n",
       "        text-align: right;\n",
       "    }\n",
       "</style>\n",
       "<table border=\"1\" class=\"dataframe\">\n",
       "  <thead>\n",
       "    <tr style=\"text-align: right;\">\n",
       "      <th></th>\n",
       "      <th>from_npi</th>\n",
       "      <th>to_npi</th>\n",
       "      <th>patient_count</th>\n",
       "      <th>transaction_count</th>\n",
       "      <th>average_day_wait</th>\n",
       "      <th>std_day_wait</th>\n",
       "    </tr>\n",
       "  </thead>\n",
       "  <tbody>\n",
       "    <tr>\n",
       "      <td>0</td>\n",
       "      <td>1033142146</td>\n",
       "      <td>1000000004</td>\n",
       "      <td>491</td>\n",
       "      <td>535</td>\n",
       "      <td>10.232</td>\n",
       "      <td>36.558</td>\n",
       "    </tr>\n",
       "    <tr>\n",
       "      <td>1</td>\n",
       "      <td>1013977990</td>\n",
       "      <td>1003000126</td>\n",
       "      <td>134</td>\n",
       "      <td>145</td>\n",
       "      <td>27.352</td>\n",
       "      <td>51.137</td>\n",
       "    </tr>\n",
       "    <tr>\n",
       "      <td>2</td>\n",
       "      <td>1013996669</td>\n",
       "      <td>1003000126</td>\n",
       "      <td>91</td>\n",
       "      <td>92</td>\n",
       "      <td>35.152</td>\n",
       "      <td>68.009</td>\n",
       "    </tr>\n",
       "    <tr>\n",
       "      <td>3</td>\n",
       "      <td>1033102504</td>\n",
       "      <td>1003000126</td>\n",
       "      <td>52</td>\n",
       "      <td>64</td>\n",
       "      <td>15.328</td>\n",
       "      <td>38.300</td>\n",
       "    </tr>\n",
       "    <tr>\n",
       "      <td>4</td>\n",
       "      <td>1003029620</td>\n",
       "      <td>1003000126</td>\n",
       "      <td>111</td>\n",
       "      <td>121</td>\n",
       "      <td>33.058</td>\n",
       "      <td>58.981</td>\n",
       "    </tr>\n",
       "  </tbody>\n",
       "</table>\n",
       "</div>"
      ],
      "text/plain": [
       "     from_npi      to_npi  patient_count  transaction_count  average_day_wait  \\\n",
       "0  1033142146  1000000004            491                535            10.232   \n",
       "1  1013977990  1003000126            134                145            27.352   \n",
       "2  1013996669  1003000126             91                 92            35.152   \n",
       "3  1033102504  1003000126             52                 64            15.328   \n",
       "4  1003029620  1003000126            111                121            33.058   \n",
       "\n",
       "   std_day_wait  \n",
       "0        36.558  \n",
       "1        51.137  \n",
       "2        68.009  \n",
       "3        38.300  \n",
       "4        58.981  "
      ]
     },
     "execution_count": 14,
     "metadata": {},
     "output_type": "execute_result"
    }
   ],
   "source": [
    "hop_team_filterd.head()"
   ]
  },
  {
   "cell_type": "code",
   "execution_count": 3,
   "metadata": {},
   "outputs": [],
   "source": [
    "npi = psql.read_sql(\"\"\"SELECT * FROM npi_info;\"\"\", conn)"
   ]
  },
  {
   "cell_type": "code",
   "execution_count": 4,
   "metadata": {},
   "outputs": [],
   "source": [
    "npi.to_pickle('data/npi.pkl')"
   ]
  },
  {
   "cell_type": "code",
   "execution_count": 5,
   "metadata": {},
   "outputs": [],
   "source": [
    "npi_info=pd.read_pickle('data/npi.pkl')"
   ]
  },
  {
   "cell_type": "code",
   "execution_count": 7,
   "metadata": {},
   "outputs": [
    {
     "data": {
      "text/html": [
       "<div>\n",
       "<style scoped>\n",
       "    .dataframe tbody tr th:only-of-type {\n",
       "        vertical-align: middle;\n",
       "    }\n",
       "\n",
       "    .dataframe tbody tr th {\n",
       "        vertical-align: top;\n",
       "    }\n",
       "\n",
       "    .dataframe thead th {\n",
       "        text-align: right;\n",
       "    }\n",
       "</style>\n",
       "<table border=\"1\" class=\"dataframe\">\n",
       "  <thead>\n",
       "    <tr style=\"text-align: right;\">\n",
       "      <th></th>\n",
       "      <th>NPI</th>\n",
       "      <th>Entity_Type_Code</th>\n",
       "      <th>Employer_Identification_Number</th>\n",
       "      <th>Provider_Organization_Name</th>\n",
       "      <th>Provider_Last_Name</th>\n",
       "      <th>Provider_First_Name</th>\n",
       "      <th>Provider_Middle_Name</th>\n",
       "      <th>Provider_Name_Prefix</th>\n",
       "      <th>Provider_Name_Suffix</th>\n",
       "      <th>Provider_Credential</th>\n",
       "      <th>...</th>\n",
       "      <th>Provider_License_Number_State_Code_13</th>\n",
       "      <th>Healthcare_Provider_Primary_Taxonomy_Switch_13</th>\n",
       "      <th>Healthcare_Provider_Taxonomy_Code_14</th>\n",
       "      <th>Provider_License_Number_14</th>\n",
       "      <th>Provider_License_Number_State_Code_14</th>\n",
       "      <th>Healthcare_Provider_Primary_Taxonomy_Switch_14</th>\n",
       "      <th>Healthcare_Provider_Taxonomy_Code_15</th>\n",
       "      <th>Provider_License_Number_15</th>\n",
       "      <th>Provider_License_Number_State_Code_15</th>\n",
       "      <th>Healthcare_Provider_Primary_Taxonomy_Switch_15</th>\n",
       "    </tr>\n",
       "  </thead>\n",
       "  <tbody>\n",
       "    <tr>\n",
       "      <td>0</td>\n",
       "      <td>1679576722</td>\n",
       "      <td>1</td>\n",
       "      <td>None</td>\n",
       "      <td>None</td>\n",
       "      <td>WIEBE</td>\n",
       "      <td>DAVID</td>\n",
       "      <td>A</td>\n",
       "      <td>None</td>\n",
       "      <td>None</td>\n",
       "      <td>M.D.</td>\n",
       "      <td>...</td>\n",
       "      <td>None</td>\n",
       "      <td>None</td>\n",
       "      <td>None</td>\n",
       "      <td>None</td>\n",
       "      <td>None</td>\n",
       "      <td>None</td>\n",
       "      <td>None</td>\n",
       "      <td>None</td>\n",
       "      <td>None</td>\n",
       "      <td>None</td>\n",
       "    </tr>\n",
       "    <tr>\n",
       "      <td>1</td>\n",
       "      <td>1588667638</td>\n",
       "      <td>1</td>\n",
       "      <td>None</td>\n",
       "      <td>None</td>\n",
       "      <td>PILCHER</td>\n",
       "      <td>WILLIAM</td>\n",
       "      <td>C</td>\n",
       "      <td>DR.</td>\n",
       "      <td>None</td>\n",
       "      <td>MD</td>\n",
       "      <td>...</td>\n",
       "      <td>None</td>\n",
       "      <td>None</td>\n",
       "      <td>None</td>\n",
       "      <td>None</td>\n",
       "      <td>None</td>\n",
       "      <td>None</td>\n",
       "      <td>None</td>\n",
       "      <td>None</td>\n",
       "      <td>None</td>\n",
       "      <td>None</td>\n",
       "    </tr>\n",
       "    <tr>\n",
       "      <td>2</td>\n",
       "      <td>1497758544</td>\n",
       "      <td>2</td>\n",
       "      <td>&lt;UNAVAIL&gt;</td>\n",
       "      <td>CUMBERLAND COUNTY HOSPITAL SYSTEM, INC</td>\n",
       "      <td>None</td>\n",
       "      <td>None</td>\n",
       "      <td>None</td>\n",
       "      <td>None</td>\n",
       "      <td>None</td>\n",
       "      <td>None</td>\n",
       "      <td>...</td>\n",
       "      <td>None</td>\n",
       "      <td>None</td>\n",
       "      <td>None</td>\n",
       "      <td>None</td>\n",
       "      <td>None</td>\n",
       "      <td>None</td>\n",
       "      <td>None</td>\n",
       "      <td>None</td>\n",
       "      <td>None</td>\n",
       "      <td>None</td>\n",
       "    </tr>\n",
       "    <tr>\n",
       "      <td>3</td>\n",
       "      <td>1306849450</td>\n",
       "      <td>1</td>\n",
       "      <td>None</td>\n",
       "      <td>None</td>\n",
       "      <td>SMITSON</td>\n",
       "      <td>HAROLD</td>\n",
       "      <td>LEROY</td>\n",
       "      <td>DR.</td>\n",
       "      <td>II</td>\n",
       "      <td>M.D.</td>\n",
       "      <td>...</td>\n",
       "      <td>None</td>\n",
       "      <td>None</td>\n",
       "      <td>None</td>\n",
       "      <td>None</td>\n",
       "      <td>None</td>\n",
       "      <td>None</td>\n",
       "      <td>None</td>\n",
       "      <td>None</td>\n",
       "      <td>None</td>\n",
       "      <td>None</td>\n",
       "    </tr>\n",
       "    <tr>\n",
       "      <td>4</td>\n",
       "      <td>1215930367</td>\n",
       "      <td>1</td>\n",
       "      <td>None</td>\n",
       "      <td>None</td>\n",
       "      <td>GRESSOT</td>\n",
       "      <td>LAURENT</td>\n",
       "      <td>None</td>\n",
       "      <td>DR.</td>\n",
       "      <td>None</td>\n",
       "      <td>M.D.</td>\n",
       "      <td>...</td>\n",
       "      <td>None</td>\n",
       "      <td>None</td>\n",
       "      <td>None</td>\n",
       "      <td>None</td>\n",
       "      <td>None</td>\n",
       "      <td>None</td>\n",
       "      <td>None</td>\n",
       "      <td>None</td>\n",
       "      <td>None</td>\n",
       "      <td>None</td>\n",
       "    </tr>\n",
       "  </tbody>\n",
       "</table>\n",
       "<p>5 rows × 93 columns</p>\n",
       "</div>"
      ],
      "text/plain": [
       "          NPI Entity_Type_Code Employer_Identification_Number  \\\n",
       "0  1679576722                1                           None   \n",
       "1  1588667638                1                           None   \n",
       "2  1497758544                2                      <UNAVAIL>   \n",
       "3  1306849450                1                           None   \n",
       "4  1215930367                1                           None   \n",
       "\n",
       "               Provider_Organization_Name Provider_Last_Name  \\\n",
       "0                                    None              WIEBE   \n",
       "1                                    None            PILCHER   \n",
       "2  CUMBERLAND COUNTY HOSPITAL SYSTEM, INC               None   \n",
       "3                                    None            SMITSON   \n",
       "4                                    None            GRESSOT   \n",
       "\n",
       "  Provider_First_Name Provider_Middle_Name Provider_Name_Prefix  \\\n",
       "0               DAVID                    A                 None   \n",
       "1             WILLIAM                    C                  DR.   \n",
       "2                None                 None                 None   \n",
       "3              HAROLD                LEROY                  DR.   \n",
       "4             LAURENT                 None                  DR.   \n",
       "\n",
       "  Provider_Name_Suffix Provider_Credential  ...  \\\n",
       "0                 None                M.D.  ...   \n",
       "1                 None                  MD  ...   \n",
       "2                 None                None  ...   \n",
       "3                   II                M.D.  ...   \n",
       "4                 None                M.D.  ...   \n",
       "\n",
       "  Provider_License_Number_State_Code_13  \\\n",
       "0                                  None   \n",
       "1                                  None   \n",
       "2                                  None   \n",
       "3                                  None   \n",
       "4                                  None   \n",
       "\n",
       "  Healthcare_Provider_Primary_Taxonomy_Switch_13  \\\n",
       "0                                           None   \n",
       "1                                           None   \n",
       "2                                           None   \n",
       "3                                           None   \n",
       "4                                           None   \n",
       "\n",
       "  Healthcare_Provider_Taxonomy_Code_14 Provider_License_Number_14  \\\n",
       "0                                 None                       None   \n",
       "1                                 None                       None   \n",
       "2                                 None                       None   \n",
       "3                                 None                       None   \n",
       "4                                 None                       None   \n",
       "\n",
       "  Provider_License_Number_State_Code_14  \\\n",
       "0                                  None   \n",
       "1                                  None   \n",
       "2                                  None   \n",
       "3                                  None   \n",
       "4                                  None   \n",
       "\n",
       "  Healthcare_Provider_Primary_Taxonomy_Switch_14  \\\n",
       "0                                           None   \n",
       "1                                           None   \n",
       "2                                           None   \n",
       "3                                           None   \n",
       "4                                           None   \n",
       "\n",
       "  Healthcare_Provider_Taxonomy_Code_15 Provider_License_Number_15  \\\n",
       "0                                 None                       None   \n",
       "1                                 None                       None   \n",
       "2                                 None                       None   \n",
       "3                                 None                       None   \n",
       "4                                 None                       None   \n",
       "\n",
       "  Provider_License_Number_State_Code_15  \\\n",
       "0                                  None   \n",
       "1                                  None   \n",
       "2                                  None   \n",
       "3                                  None   \n",
       "4                                  None   \n",
       "\n",
       "  Healthcare_Provider_Primary_Taxonomy_Switch_15  \n",
       "0                                           None  \n",
       "1                                           None  \n",
       "2                                           None  \n",
       "3                                           None  \n",
       "4                                           None  \n",
       "\n",
       "[5 rows x 93 columns]"
      ]
     },
     "execution_count": 7,
     "metadata": {},
     "output_type": "execute_result"
    }
   ],
   "source": [
    "npi_info.head()"
   ]
  },
  {
   "cell_type": "markdown",
   "metadata": {},
   "source": [
    "#To see all the rows and columns in a huge dataset:\n",
    "pd.set_option('display.max_columns', None)\n",
    "pd.set_option('display.max_rows', None)   "
   ]
  },
  {
   "cell_type": "code",
   "execution_count": 10,
   "metadata": {},
   "outputs": [],
   "source": [
    "npi_info=npi_info.query('Healthcare_Provider_Primary_Taxonomy_Switch_1==\"Y\" | \\\n",
    "               Healthcare_Provider_Primary_Taxonomy_Switch_2==\"Y\"')"
   ]
  },
  {
   "cell_type": "code",
   "execution_count": null,
   "metadata": {},
   "outputs": [],
   "source": []
  },
  {
   "cell_type": "code",
   "execution_count": 11,
   "metadata": {},
   "outputs": [],
   "source": [
    "taxo_df=pd.read_csv('data/nucc_taxonomy_200.csv')"
   ]
  },
  {
   "cell_type": "code",
   "execution_count": null,
   "metadata": {},
   "outputs": [],
   "source": []
  }
 ],
 "metadata": {
  "kernelspec": {
   "display_name": "Python 3",
   "language": "python",
   "name": "python3"
  },
  "language_info": {
   "codemirror_mode": {
    "name": "ipython",
    "version": 3
   },
   "file_extension": ".py",
   "mimetype": "text/x-python",
   "name": "python",
   "nbconvert_exporter": "python",
   "pygments_lexer": "ipython3",
   "version": "3.7.4"
  }
 },
 "nbformat": 4,
 "nbformat_minor": 2
}
